{
 "cells": [
  {
   "cell_type": "code",
   "execution_count": 4,
   "id": "257cac87-01f5-447c-98d4-58ae39109a68",
   "metadata": {},
   "outputs": [],
   "source": [
    "import pandas as pd\n",
    "import numpy as np"
   ]
  },
  {
   "cell_type": "code",
   "execution_count": 23,
   "id": "c236d1b9-1595-40da-81ca-13c4b8a06365",
   "metadata": {},
   "outputs": [],
   "source": [
    "data = pd.read_csv(\"Data/BTC_ETH.csv\")"
   ]
  },
  {
   "cell_type": "code",
   "execution_count": 6,
   "id": "ca0a8b89-0a38-4519-aea1-7d72fe0ab040",
   "metadata": {},
   "outputs": [
    {
     "data": {
      "text/html": [
       "<div>\n",
       "<style scoped>\n",
       "    .dataframe tbody tr th:only-of-type {\n",
       "        vertical-align: middle;\n",
       "    }\n",
       "\n",
       "    .dataframe tbody tr th {\n",
       "        vertical-align: top;\n",
       "    }\n",
       "\n",
       "    .dataframe thead th {\n",
       "        text-align: right;\n",
       "    }\n",
       "</style>\n",
       "<table border=\"1\" class=\"dataframe\">\n",
       "  <thead>\n",
       "    <tr style=\"text-align: right;\">\n",
       "      <th></th>\n",
       "      <th>Timestamp</th>\n",
       "      <th>BTC</th>\n",
       "      <th>ETH</th>\n",
       "    </tr>\n",
       "  </thead>\n",
       "  <tbody>\n",
       "    <tr>\n",
       "      <th>0</th>\n",
       "      <td>2017-04-02</td>\n",
       "      <td>1099.169125</td>\n",
       "      <td>48.55</td>\n",
       "    </tr>\n",
       "    <tr>\n",
       "      <th>1</th>\n",
       "      <td>2017-04-03</td>\n",
       "      <td>1141.813000</td>\n",
       "      <td>44.13</td>\n",
       "    </tr>\n",
       "    <tr>\n",
       "      <th>2</th>\n",
       "      <td>2017-04-04</td>\n",
       "      <td>1141.600363</td>\n",
       "      <td>44.43</td>\n",
       "    </tr>\n",
       "    <tr>\n",
       "      <th>3</th>\n",
       "      <td>2017-04-05</td>\n",
       "      <td>1133.079314</td>\n",
       "      <td>44.90</td>\n",
       "    </tr>\n",
       "    <tr>\n",
       "      <th>4</th>\n",
       "      <td>2017-04-06</td>\n",
       "      <td>1196.307937</td>\n",
       "      <td>43.23</td>\n",
       "    </tr>\n",
       "    <tr>\n",
       "      <th>...</th>\n",
       "      <td>...</td>\n",
       "      <td>...</td>\n",
       "      <td>...</td>\n",
       "    </tr>\n",
       "    <tr>\n",
       "      <th>360</th>\n",
       "      <td>2018-03-28</td>\n",
       "      <td>7960.380000</td>\n",
       "      <td>445.93</td>\n",
       "    </tr>\n",
       "    <tr>\n",
       "      <th>361</th>\n",
       "      <td>2018-03-29</td>\n",
       "      <td>7172.280000</td>\n",
       "      <td>383.90</td>\n",
       "    </tr>\n",
       "    <tr>\n",
       "      <th>362</th>\n",
       "      <td>2018-03-30</td>\n",
       "      <td>6882.531667</td>\n",
       "      <td>393.82</td>\n",
       "    </tr>\n",
       "    <tr>\n",
       "      <th>363</th>\n",
       "      <td>2018-03-31</td>\n",
       "      <td>6935.480000</td>\n",
       "      <td>394.07</td>\n",
       "    </tr>\n",
       "    <tr>\n",
       "      <th>364</th>\n",
       "      <td>2018-04-01</td>\n",
       "      <td>6794.105000</td>\n",
       "      <td>378.85</td>\n",
       "    </tr>\n",
       "  </tbody>\n",
       "</table>\n",
       "<p>365 rows × 3 columns</p>\n",
       "</div>"
      ],
      "text/plain": [
       "      Timestamp          BTC     ETH\n",
       "0    2017-04-02  1099.169125   48.55\n",
       "1    2017-04-03  1141.813000   44.13\n",
       "2    2017-04-04  1141.600363   44.43\n",
       "3    2017-04-05  1133.079314   44.90\n",
       "4    2017-04-06  1196.307937   43.23\n",
       "..          ...          ...     ...\n",
       "360  2018-03-28  7960.380000  445.93\n",
       "361  2018-03-29  7172.280000  383.90\n",
       "362  2018-03-30  6882.531667  393.82\n",
       "363  2018-03-31  6935.480000  394.07\n",
       "364  2018-04-01  6794.105000  378.85\n",
       "\n",
       "[365 rows x 3 columns]"
      ]
     },
     "execution_count": 6,
     "metadata": {},
     "output_type": "execute_result"
    }
   ],
   "source": [
    "data"
   ]
  },
  {
   "cell_type": "code",
   "execution_count": 16,
   "id": "44110fe6-7bcb-4348-93b4-c855dce590b5",
   "metadata": {},
   "outputs": [
    {
     "name": "stdout",
     "output_type": "stream",
     "text": [
      "143805.81666666668\n",
      "114301.81666666664\n"
     ]
    }
   ],
   "source": [
    "m = float(data.values[0][1])\n",
    "for row in data.values:\n",
    "    if m > (row[1] * 2):\n",
    "        print(m)\n",
    "    m = float(row[1])"
   ]
  },
  {
   "cell_type": "code",
   "execution_count": 31,
   "id": "69c9230f-64b7-4bbc-8118-9d810145df81",
   "metadata": {},
   "outputs": [],
   "source": [
    "def findOutlier(colIndex: int):\n",
    "    m = float(data.values[0][colIndex])\n",
    "    for row in data.values:\n",
    "        if m > (row[colIndex] * 2):\n",
    "            print(m)\n",
    "        m = float(row[colIndex])"
   ]
  },
  {
   "cell_type": "code",
   "execution_count": 32,
   "id": "2617b856-978b-4c80-be62-831128ff2c09",
   "metadata": {},
   "outputs": [
    {
     "name": "stdout",
     "output_type": "stream",
     "text": [
      "7166.9\n",
      "8648.3\n"
     ]
    }
   ],
   "source": [
    "findOutlier(2)"
   ]
  },
  {
   "cell_type": "code",
   "execution_count": 25,
   "id": "f2b316cc-8930-4396-a169-d949be6da66f",
   "metadata": {},
   "outputs": [
    {
     "data": {
      "text/html": [
       "<div>\n",
       "<style scoped>\n",
       "    .dataframe tbody tr th:only-of-type {\n",
       "        vertical-align: middle;\n",
       "    }\n",
       "\n",
       "    .dataframe tbody tr th {\n",
       "        vertical-align: top;\n",
       "    }\n",
       "\n",
       "    .dataframe thead th {\n",
       "        text-align: right;\n",
       "    }\n",
       "</style>\n",
       "<table border=\"1\" class=\"dataframe\">\n",
       "  <thead>\n",
       "    <tr style=\"text-align: right;\">\n",
       "      <th></th>\n",
       "      <th>Timestamp</th>\n",
       "      <th>BTC</th>\n",
       "      <th>ETH</th>\n",
       "    </tr>\n",
       "  </thead>\n",
       "  <tbody>\n",
       "    <tr>\n",
       "      <th>336</th>\n",
       "      <td>2018-03-04</td>\n",
       "      <td>114301.816667</td>\n",
       "      <td>8648.3</td>\n",
       "    </tr>\n",
       "  </tbody>\n",
       "</table>\n",
       "</div>"
      ],
      "text/plain": [
       "      Timestamp            BTC     ETH\n",
       "336  2018-03-04  114301.816667  8648.3"
      ]
     },
     "execution_count": 25,
     "metadata": {},
     "output_type": "execute_result"
    }
   ],
   "source": [
    "data[data[\"BTC\"] > 100000]"
   ]
  },
  {
   "cell_type": "code",
   "execution_count": 24,
   "id": "10cf6a7f-eb34-4a8e-a0e4-7375dad9610e",
   "metadata": {},
   "outputs": [],
   "source": [
    "data.loc[270, \"BTC\"] = (data.loc[269][\"BTC\"] + data.loc[271][\"BTC\"]) / 2"
   ]
  },
  {
   "cell_type": "code",
   "execution_count": 26,
   "id": "a516c618-5da1-49f6-9b9f-ca52d894d1f9",
   "metadata": {},
   "outputs": [
    {
     "data": {
      "text/plain": [
       "Timestamp      2017-12-28\n",
       "BTC          15114.730833\n",
       "ETH                7166.9\n",
       "Name: 270, dtype: object"
      ]
     },
     "execution_count": 26,
     "metadata": {},
     "output_type": "execute_result"
    }
   ],
   "source": [
    "data.loc[270]"
   ]
  },
  {
   "cell_type": "code",
   "execution_count": 28,
   "id": "307676ed-17aa-47d3-a83f-062d9dbe1c50",
   "metadata": {},
   "outputs": [],
   "source": [
    "def fixOutlier(line: int, col: str):\n",
    "    data.loc[line, col] = (data.loc[line - 1][col] + data.loc[line + 1][col]) / 2"
   ]
  },
  {
   "cell_type": "code",
   "execution_count": 29,
   "id": "fc02dd85-dd64-4bb4-b374-2898d5d59207",
   "metadata": {},
   "outputs": [],
   "source": [
    "fixOutlier(336, \"BTC\")"
   ]
  },
  {
   "cell_type": "code",
   "execution_count": 33,
   "id": "97e63239-4a22-4aa9-b4fc-4c8654f5860d",
   "metadata": {},
   "outputs": [
    {
     "data": {
      "text/html": [
       "<div>\n",
       "<style scoped>\n",
       "    .dataframe tbody tr th:only-of-type {\n",
       "        vertical-align: middle;\n",
       "    }\n",
       "\n",
       "    .dataframe tbody tr th {\n",
       "        vertical-align: top;\n",
       "    }\n",
       "\n",
       "    .dataframe thead th {\n",
       "        text-align: right;\n",
       "    }\n",
       "</style>\n",
       "<table border=\"1\" class=\"dataframe\">\n",
       "  <thead>\n",
       "    <tr style=\"text-align: right;\">\n",
       "      <th></th>\n",
       "      <th>Timestamp</th>\n",
       "      <th>BTC</th>\n",
       "      <th>ETH</th>\n",
       "    </tr>\n",
       "  </thead>\n",
       "  <tbody>\n",
       "    <tr>\n",
       "      <th>270</th>\n",
       "      <td>2017-12-28</td>\n",
       "      <td>15114.730833</td>\n",
       "      <td>7166.9</td>\n",
       "    </tr>\n",
       "    <tr>\n",
       "      <th>336</th>\n",
       "      <td>2018-03-04</td>\n",
       "      <td>11461.244167</td>\n",
       "      <td>8648.3</td>\n",
       "    </tr>\n",
       "  </tbody>\n",
       "</table>\n",
       "</div>"
      ],
      "text/plain": [
       "      Timestamp           BTC     ETH\n",
       "270  2017-12-28  15114.730833  7166.9\n",
       "336  2018-03-04  11461.244167  8648.3"
      ]
     },
     "execution_count": 33,
     "metadata": {},
     "output_type": "execute_result"
    }
   ],
   "source": [
    "data[data[\"ETH\"] > 7000]"
   ]
  },
  {
   "cell_type": "code",
   "execution_count": 34,
   "id": "fdaba2e7-aad5-4a56-b35b-33888130b983",
   "metadata": {},
   "outputs": [],
   "source": [
    "fixOutlier(270, \"ETH\")"
   ]
  },
  {
   "cell_type": "code",
   "execution_count": 35,
   "id": "976e3623-8dc0-4eeb-85ee-fddc19a1e72f",
   "metadata": {},
   "outputs": [],
   "source": [
    "fixOutlier(336, \"ETH\")"
   ]
  },
  {
   "cell_type": "code",
   "execution_count": 43,
   "id": "8e9a1a38-8655-448a-aaf9-f818530fb787",
   "metadata": {},
   "outputs": [
    {
     "data": {
      "text/plain": [
       "<Axes: >"
      ]
     },
     "execution_count": 43,
     "metadata": {},
     "output_type": "execute_result"
    },
    {
     "data": {
      "image/png": "[encoded data removed]",
      "text/plain": [
       "<Figure size 640x480 with 1 Axes>"
      ]
     },
     "metadata": {},
     "output_type": "display_data"
    }
   ],
   "source": [
    "import matplotlib.pyplot as plt\n",
    "data.plot()"
   ]
  },
  {
   "cell_type": "code",
   "execution_count": 37,
   "id": "c7be5c3b-70f1-4009-9a2b-d5d2182365c5",
   "metadata": {},
   "outputs": [
    {
     "data": {
      "text/html": [
       "<div>\n",
       "<style scoped>\n",
       "    .dataframe tbody tr th:only-of-type {\n",
       "        vertical-align: middle;\n",
       "    }\n",
       "\n",
       "    .dataframe tbody tr th {\n",
       "        vertical-align: top;\n",
       "    }\n",
       "\n",
       "    .dataframe thead th {\n",
       "        text-align: right;\n",
       "    }\n",
       "</style>\n",
       "<table border=\"1\" class=\"dataframe\">\n",
       "  <thead>\n",
       "    <tr style=\"text-align: right;\">\n",
       "      <th></th>\n",
       "      <th>Timestamp</th>\n",
       "      <th>BTC</th>\n",
       "      <th>ETH</th>\n",
       "    </tr>\n",
       "  </thead>\n",
       "  <tbody>\n",
       "    <tr>\n",
       "      <th>0</th>\n",
       "      <td>False</td>\n",
       "      <td>False</td>\n",
       "      <td>False</td>\n",
       "    </tr>\n",
       "    <tr>\n",
       "      <th>1</th>\n",
       "      <td>False</td>\n",
       "      <td>False</td>\n",
       "      <td>False</td>\n",
       "    </tr>\n",
       "    <tr>\n",
       "      <th>2</th>\n",
       "      <td>False</td>\n",
       "      <td>False</td>\n",
       "      <td>False</td>\n",
       "    </tr>\n",
       "    <tr>\n",
       "      <th>3</th>\n",
       "      <td>False</td>\n",
       "      <td>False</td>\n",
       "      <td>False</td>\n",
       "    </tr>\n",
       "    <tr>\n",
       "      <th>4</th>\n",
       "      <td>False</td>\n",
       "      <td>False</td>\n",
       "      <td>False</td>\n",
       "    </tr>\n",
       "    <tr>\n",
       "      <th>...</th>\n",
       "      <td>...</td>\n",
       "      <td>...</td>\n",
       "      <td>...</td>\n",
       "    </tr>\n",
       "    <tr>\n",
       "      <th>360</th>\n",
       "      <td>False</td>\n",
       "      <td>False</td>\n",
       "      <td>False</td>\n",
       "    </tr>\n",
       "    <tr>\n",
       "      <th>361</th>\n",
       "      <td>False</td>\n",
       "      <td>False</td>\n",
       "      <td>False</td>\n",
       "    </tr>\n",
       "    <tr>\n",
       "      <th>362</th>\n",
       "      <td>False</td>\n",
       "      <td>False</td>\n",
       "      <td>False</td>\n",
       "    </tr>\n",
       "    <tr>\n",
       "      <th>363</th>\n",
       "      <td>False</td>\n",
       "      <td>False</td>\n",
       "      <td>False</td>\n",
       "    </tr>\n",
       "    <tr>\n",
       "      <th>364</th>\n",
       "      <td>False</td>\n",
       "      <td>False</td>\n",
       "      <td>False</td>\n",
       "    </tr>\n",
       "  </tbody>\n",
       "</table>\n",
       "<p>365 rows × 3 columns</p>\n",
       "</div>"
      ],
      "text/plain": [
       "     Timestamp    BTC    ETH\n",
       "0        False  False  False\n",
       "1        False  False  False\n",
       "2        False  False  False\n",
       "3        False  False  False\n",
       "4        False  False  False\n",
       "..         ...    ...    ...\n",
       "360      False  False  False\n",
       "361      False  False  False\n",
       "362      False  False  False\n",
       "363      False  False  False\n",
       "364      False  False  False\n",
       "\n",
       "[365 rows x 3 columns]"
      ]
     },
     "execution_count": 37,
     "metadata": {},
     "output_type": "execute_result"
    }
   ],
   "source": [
    "data.isnull()"
   ]
  },
  {
   "cell_type": "code",
   "execution_count": 40,
   "id": "0d1b6916-0a1b-4fde-9dcc-5060b73be04c",
   "metadata": {},
   "outputs": [
    {
     "data": {
      "text/html": [
       "<div>\n",
       "<style scoped>\n",
       "    .dataframe tbody tr th:only-of-type {\n",
       "        vertical-align: middle;\n",
       "    }\n",
       "\n",
       "    .dataframe tbody tr th {\n",
       "        vertical-align: top;\n",
       "    }\n",
       "\n",
       "    .dataframe thead th {\n",
       "        text-align: right;\n",
       "    }\n",
       "</style>\n",
       "<table border=\"1\" class=\"dataframe\">\n",
       "  <thead>\n",
       "    <tr style=\"text-align: right;\">\n",
       "      <th></th>\n",
       "      <th>Timestamp</th>\n",
       "      <th>BTC</th>\n",
       "      <th>ETH</th>\n",
       "    </tr>\n",
       "  </thead>\n",
       "  <tbody>\n",
       "    <tr>\n",
       "      <th>250</th>\n",
       "      <td>2017-12-08</td>\n",
       "      <td>16007.436667</td>\n",
       "      <td>NaN</td>\n",
       "    </tr>\n",
       "    <tr>\n",
       "      <th>251</th>\n",
       "      <td>2017-12-09</td>\n",
       "      <td>15142.834152</td>\n",
       "      <td>NaN</td>\n",
       "    </tr>\n",
       "    <tr>\n",
       "      <th>252</th>\n",
       "      <td>2017-12-10</td>\n",
       "      <td>14869.805000</td>\n",
       "      <td>NaN</td>\n",
       "    </tr>\n",
       "  </tbody>\n",
       "</table>\n",
       "</div>"
      ],
      "text/plain": [
       "      Timestamp           BTC  ETH\n",
       "250  2017-12-08  16007.436667  NaN\n",
       "251  2017-12-09  15142.834152  NaN\n",
       "252  2017-12-10  14869.805000  NaN"
      ]
     },
     "execution_count": 40,
     "metadata": {},
     "output_type": "execute_result"
    }
   ],
   "source": [
    "data[data[\"ETH\"].isnull() == True]"
   ]
  },
  {
   "cell_type": "code",
   "execution_count": 42,
   "id": "0df54ec1-8014-4835-a2e1-2e55a05d60ca",
   "metadata": {},
   "outputs": [
    {
     "name": "stderr",
     "output_type": "stream",
     "text": [
      "C:\\Users\\lk3\\AppData\\Local\\Temp\\ipykernel_11248\\3193472398.py:1: FutureWarning: A value is trying to be set on a copy of a DataFrame or Series through chained assignment using an inplace method.\n",
      "The behavior will change in pandas 3.0. This inplace method will never work because the intermediate object on which we are setting values always behaves as a copy.\n",
      "\n",
      "For example, when doing 'df[col].method(value, inplace=True)', try using 'df.method({col: value}, inplace=True)' or df[col] = df[col].method(value) instead, to perform the operation inplace on the original object.\n",
      "\n",
      "\n",
      "  data[\"ETH\"].bfill(inplace=True)\n"
     ]
    }
   ],
   "source": [
    "data[\"ETH\"].bfill(inplace=True)"
   ]
  },
  {
   "cell_type": "code",
   "execution_count": null,
   "id": "d3fb37a5-ee60-4258-b2f9-1beb60609456",
   "metadata": {},
   "outputs": [],
   "source": []
  }
 ],
 "metadata": {
  "kernelspec": {
   "display_name": "Python 3 (ipykernel)",
   "language": "python",
   "name": "python3"
  },
  "language_info": {
   "codemirror_mode": {
    "name": "ipython",
    "version": 3
   },
   "file_extension": ".py",
   "mimetype": "text/x-python",
   "name": "python",
   "nbconvert_exporter": "python",
   "pygments_lexer": "ipython3",
   "version": "3.12.3"
  }
 },
 "nbformat": 4,
 "nbformat_minor": 5
}
