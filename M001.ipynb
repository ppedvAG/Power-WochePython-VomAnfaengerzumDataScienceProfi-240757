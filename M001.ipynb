{
 "cells": [
  {
   "cell_type": "markdown",
   "id": "d439e560-d25a-47ba-9ded-a3ba9e568bdd",
   "metadata": {},
   "source": [
    "## IPython Notebooks"
   ]
  },
  {
   "cell_type": "markdown",
   "id": "9f655513-37df-4bf0-8624-3750de124c1a",
   "metadata": {},
   "source": [
    "Funktionen\n",
    "- Code schnell ausführen\n",
    "- Graphen darstellen\n",
    "- Verwendung: Zellen"
   ]
  },
  {
   "cell_type": "markdown",
   "id": "ae812430-be99-46ec-a6a3-7865ed45982c",
   "metadata": {},
   "source": [
    "Unabhängige Ausführung von Code innerhalb der Zellen\n",
    "- Zwei verschiedene Typen von Zellen: Code und Markdown\n",
    "    - Wechseln mit M (Markdown) und Y (Code)\n",
    "- Zwei verschiedene Modi von Zellen: Navigationsmodus und Bearbeitungsmodus\n",
    "    - Navigation mit Pfeiltasten, großer Blauer Rahmen\n",
    "    - Bearbeitung mit Enter, Bearbeitung mit Escape oder Shift/Strg + Enter\n",
    "        - Escape: Führt die Zelle **nicht** aus\n",
    "        - Shift + Enter: Führt die Zelle aus und springt in die nächste Zelle\n",
    "        - Strg + Enter: Führt die Zelle aus, *aber springt nicht in die nächste Zelle*\n",
    "     \n",
    "Trennlinien: ---"
   ]
  },
  {
   "cell_type": "markdown",
   "id": "df7b8b0d-3dd8-4bec-90a7-d3b4df458710",
   "metadata": {},
   "source": [
    "---"
   ]
  },
  {
   "cell_type": "code",
   "execution_count": 6,
   "id": "081fbfee-6836-4071-9ef2-d686f65cba17",
   "metadata": {},
   "outputs": [],
   "source": [
    "x = 5\n",
    "\n",
    "y = x * 2"
   ]
  },
  {
   "cell_type": "markdown",
   "id": "23448f85-4439-42c0-8fed-95a86d9f5e3f",
   "metadata": {},
   "source": [
    "Code aus vorherigen Zellen kann in folgenden Zellen verwendet werden (vorallem bei Imports wichtig)"
   ]
  },
  {
   "cell_type": "code",
   "execution_count": 7,
   "id": "614b9730-881f-45f3-8a8d-736030b53ce1",
   "metadata": {},
   "outputs": [
    {
     "data": {
      "text/plain": [
       "3125"
      ]
     },
     "execution_count": 7,
     "metadata": {},
     "output_type": "execute_result"
    }
   ],
   "source": [
    "x ** x"
   ]
  },
  {
   "cell_type": "markdown",
   "id": "2e1d44ba-4419-4876-8e0e-5c455cb6de31",
   "metadata": {},
   "source": [
    "### Graphen darstellen"
   ]
  },
  {
   "cell_type": "code",
   "execution_count": 10,
   "id": "ee92b65d-ef68-43c4-9041-e39c314b3313",
   "metadata": {},
   "outputs": [
    {
     "data": {
      "text/plain": [
       "[<matplotlib.lines.Line2D at 0x187bc444ef0>]"
      ]
     },
     "execution_count": 10,
     "metadata": {},
     "output_type": "execute_result"
    },
    {
     "data": {
      "image/png": "[encoded data removed]",
      "text/plain": [
       "<Figure size 640x480 with 1 Axes>"
      ]
     },
     "metadata": {},
     "output_type": "display_data"
    }
   ],
   "source": [
    "import matplotlib.pyplot as plt\n",
    "\n",
    "l = [1, 2, 3, 4]\n",
    "h = [11, 5.5, 18, 29]\n",
    "\n",
    "plt.plot(l, h)"
   ]
  },
  {
   "cell_type": "markdown",
   "id": "311b4f27-3c1d-462f-a769-1ccc9ddd6a18",
   "metadata": {},
   "source": [
    "## Ein paar Shortcuts"
   ]
  },
  {
   "cell_type": "markdown",
   "id": "cb2e5c95-a3df-4e3e-ac49-3e6a9ae72cf5",
   "metadata": {},
   "source": [
    "(Im Navigationsmodus)\n",
    "\n",
    "A, B: Neue Zellen über/unter der derzeitigen Zelle erstellen\n",
    "\n",
    "D + D: Derzeitige Zelle löschen\n",
    "\n",
    "M und Y: Zw. Code und Markdown wechseln\n",
    "\n",
    "C, V, X (ohne Strg): Copy, Paste, Cut\n",
    "\n",
    "Enter: Zelle betreten\n",
    "\n",
    "Shift/Strg Enter: Zelle ausführen\n",
    "\n",
    "Strg + Shift + Pfeiltaste: Zelle verschieben"
   ]
  }
 ],
 "metadata": {
  "kernelspec": {
   "display_name": "Python 3 (ipykernel)",
   "language": "python",
   "name": "python3"
  },
  "language_info": {
   "codemirror_mode": {
    "name": "ipython",
    "version": 3
   },
   "file_extension": ".py",
   "mimetype": "text/x-python",
   "name": "python",
   "nbconvert_exporter": "python",
   "pygments_lexer": "ipython3",
   "version": "3.12.3"
  }
 },
 "nbformat": 4,
 "nbformat_minor": 5
}
