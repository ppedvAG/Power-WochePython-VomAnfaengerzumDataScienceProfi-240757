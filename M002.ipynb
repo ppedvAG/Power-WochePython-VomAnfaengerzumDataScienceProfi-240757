{
 "cells": [
  {
   "cell_type": "markdown",
   "id": "36d72342-f65e-4e9a-bbd2-25084fb5fce8",
   "metadata": {},
   "source": [
    "## Numpy"
   ]
  },
  {
   "cell_type": "markdown",
   "id": "ef03b578-6c37-4769-8f00-97ef3164dd18",
   "metadata": {},
   "source": [
    "Effiziente Verarbeitung von Zahlenmengen"
   ]
  },
  {
   "cell_type": "markdown",
   "id": "9f64815b-5865-4e08-8751-72807d0fe090",
   "metadata": {},
   "source": [
    "Ermöglicht uns, Arrays zu Erstellen welche mit puren Zahlen gefüllt sind, anstatt mit (Python-) Objekten"
   ]
  },
  {
   "cell_type": "markdown",
   "id": "b3499fe3-6096-4824-8272-3f1025367f8e",
   "metadata": {},
   "source": [
    "Muss installiert werden über Python Packages oder pip\n",
    "- pip install numpy"
   ]
  },
  {
   "cell_type": "code",
   "execution_count": 1,
   "id": "36c528aa-3b0a-40c2-8913-448065660dcd",
   "metadata": {},
   "outputs": [],
   "source": [
    "import numpy as np"
   ]
  },
  {
   "cell_type": "markdown",
   "id": "41751e91-91c2-4a5d-ac90-a013c7f46fae",
   "metadata": {},
   "source": [
    "## Arrays\n",
    "\n",
    "np.array um aus einer Python List ein Numpy Array zu erzeugen"
   ]
  },
  {
   "cell_type": "code",
   "execution_count": 2,
   "id": "e0aec7ae-5b80-4e1f-bd8a-6151c2a8de7b",
   "metadata": {
    "jupyter": {
     "source_hidden": true
    }
   },
   "outputs": [
    {
     "data": {
      "text/plain": [
       "array([1, 2, 3, 4])"
      ]
     },
     "execution_count": 2,
     "metadata": {},
     "output_type": "execute_result"
    }
   ],
   "source": [
    "np.array([1, 2, 3, 4])"
   ]
  },
  {
   "cell_type": "code",
   "execution_count": 3,
   "id": "cb1d8c4d-16c3-4bb0-a714-9cb330cbddf4",
   "metadata": {},
   "outputs": [],
   "source": [
    "a = np.array([1, 2, 3, 4])"
   ]
  },
  {
   "cell_type": "code",
   "execution_count": 4,
   "id": "1f46fcb3-7e3e-4872-9481-793cfaf5dea3",
   "metadata": {},
   "outputs": [
    {
     "name": "stdout",
     "output_type": "stream",
     "text": [
      "[1 2 3 4]\n"
     ]
    }
   ],
   "source": [
    "print(a)"
   ]
  },
  {
   "cell_type": "code",
   "execution_count": 5,
   "id": "f7b74049-5f79-4f85-895f-a003db72c7e9",
   "metadata": {},
   "outputs": [
    {
     "data": {
      "text/plain": [
       "numpy.ndarray"
      ]
     },
     "execution_count": 5,
     "metadata": {},
     "output_type": "execute_result"
    }
   ],
   "source": [
    "type(a)  # ndarray: n-dimensional array (1D, 2D, 3D, ...)"
   ]
  },
  {
   "cell_type": "markdown",
   "id": "eefba9d4-e374-4fb5-9010-2083ab6ffc16",
   "metadata": {},
   "source": [
    "Index genauso wie in Python"
   ]
  },
  {
   "cell_type": "code",
   "execution_count": 6,
   "id": "a693e417-360a-45f2-9ca9-54f80063bd75",
   "metadata": {},
   "outputs": [
    {
     "data": {
      "text/plain": [
       "1"
      ]
     },
     "execution_count": 6,
     "metadata": {},
     "output_type": "execute_result"
    }
   ],
   "source": [
    "a[0]"
   ]
  },
  {
   "cell_type": "code",
   "execution_count": 7,
   "id": "4a1d38ae-9c96-46d8-9b9b-ae70d4aa2058",
   "metadata": {},
   "outputs": [
    {
     "data": {
      "text/plain": [
       "4"
      ]
     },
     "execution_count": 7,
     "metadata": {},
     "output_type": "execute_result"
    }
   ],
   "source": [
    "a[-1]"
   ]
  },
  {
   "cell_type": "code",
   "execution_count": 8,
   "id": "d1933975-dae0-4b8e-a8c4-059501fee930",
   "metadata": {},
   "outputs": [
    {
     "data": {
      "text/plain": [
       "array([1, 2])"
      ]
     },
     "execution_count": 8,
     "metadata": {},
     "output_type": "execute_result"
    }
   ],
   "source": [
    "a[0:2]"
   ]
  },
  {
   "cell_type": "code",
   "execution_count": 9,
   "id": "d94a5134-9db0-4a58-aa60-abcf734aba04",
   "metadata": {},
   "outputs": [
    {
     "data": {
      "text/plain": [
       "array([2, 3, 4])"
      ]
     },
     "execution_count": 9,
     "metadata": {},
     "output_type": "execute_result"
    }
   ],
   "source": [
    "a[1:]"
   ]
  },
  {
   "cell_type": "code",
   "execution_count": 10,
   "id": "7f6904eb-92d3-404f-aae2-d332393f4917",
   "metadata": {},
   "outputs": [
    {
     "data": {
      "text/plain": [
       "array([2, 3])"
      ]
     },
     "execution_count": 10,
     "metadata": {},
     "output_type": "execute_result"
    }
   ],
   "source": [
    "a[-3:-1]"
   ]
  },
  {
   "cell_type": "markdown",
   "id": "cc2a6a3e-9b7a-4b16-bfe2-6f3a9b1760e1",
   "metadata": {},
   "source": [
    "Typen angeben"
   ]
  },
  {
   "cell_type": "code",
   "execution_count": 11,
   "id": "13935884-a2c3-48cd-90f8-fbfafee4ff0c",
   "metadata": {},
   "outputs": [],
   "source": [
    "b = np.array([1, 2, 3, 4], dtype=np.int8)"
   ]
  },
  {
   "cell_type": "code",
   "execution_count": 12,
   "id": "be29e614-55fc-492d-9b55-0d5263fc92ea",
   "metadata": {},
   "outputs": [
    {
     "data": {
      "text/plain": [
       "dtype('int32')"
      ]
     },
     "execution_count": 12,
     "metadata": {},
     "output_type": "execute_result"
    }
   ],
   "source": [
    "a.dtype  # 4 Byte"
   ]
  },
  {
   "cell_type": "code",
   "execution_count": 13,
   "id": "ecd6a04c-3272-4532-81e3-f028b56590e8",
   "metadata": {},
   "outputs": [
    {
     "data": {
      "text/plain": [
       "dtype('int8')"
      ]
     },
     "execution_count": 13,
     "metadata": {},
     "output_type": "execute_result"
    }
   ],
   "source": [
    "b.dtype  # 1 Byte"
   ]
  },
  {
   "cell_type": "markdown",
   "id": "91adb9e7-992b-4627-ac9d-73c86a0da099",
   "metadata": {},
   "source": [
    "Kommazahlen"
   ]
  },
  {
   "cell_type": "code",
   "execution_count": 14,
   "id": "7c8f18cc-ef51-471b-bc4d-fbff6fad6f29",
   "metadata": {},
   "outputs": [],
   "source": [
    "c = np.array([1.4, 2.2, 8.4, 7.6])"
   ]
  },
  {
   "cell_type": "code",
   "execution_count": 15,
   "id": "ac698910-63fe-4a5d-8cab-48b96af500ab",
   "metadata": {},
   "outputs": [
    {
     "data": {
      "text/plain": [
       "dtype('float64')"
      ]
     },
     "execution_count": 15,
     "metadata": {},
     "output_type": "execute_result"
    }
   ],
   "source": [
    "c.dtype"
   ]
  },
  {
   "cell_type": "code",
   "execution_count": 16,
   "id": "ed362cd1-84d4-4faa-be4f-3181db2740c3",
   "metadata": {},
   "outputs": [],
   "source": [
    "d = np.array([1.4, 2.2, 8.4, 7.6], dtype=np.float16)"
   ]
  },
  {
   "cell_type": "code",
   "execution_count": 17,
   "id": "5756b130-752d-4473-a08a-1659136ed230",
   "metadata": {},
   "outputs": [
    {
     "data": {
      "text/plain": [
       "dtype('float16')"
      ]
     },
     "execution_count": 17,
     "metadata": {},
     "output_type": "execute_result"
    }
   ],
   "source": [
    "d.dtype"
   ]
  },
  {
   "cell_type": "markdown",
   "id": "020c920a-12d7-4420-85c7-14f26961db80",
   "metadata": {},
   "source": [
    "## Matrizen\n",
    "\n",
    "Matrizen: Zweidimensionale Arrays\n",
    "\n",
    "z.B. DB-Tabelle, Excel-Tabelle\n",
    "\n",
    "Ein Datenset kann als Matrix dargestellt werden"
   ]
  },
  {
   "cell_type": "code",
   "execution_count": 18,
   "id": "ca238883-08b6-4347-bc9d-b6196a6c4b10",
   "metadata": {},
   "outputs": [],
   "source": [
    "e = np.array([\n",
    "    [1, 2, 3],\n",
    "    [4, 5, 6],\n",
    "    [7, 8, 9]\n",
    "])"
   ]
  },
  {
   "cell_type": "code",
   "execution_count": 19,
   "id": "9ccb6e51-5b6c-4eaf-b9d3-83448d709a8a",
   "metadata": {},
   "outputs": [
    {
     "data": {
      "text/plain": [
       "array([[1, 2, 3],\n",
       "       [4, 5, 6],\n",
       "       [7, 8, 9]])"
      ]
     },
     "execution_count": 19,
     "metadata": {},
     "output_type": "execute_result"
    }
   ],
   "source": [
    "e"
   ]
  },
  {
   "cell_type": "code",
   "execution_count": 20,
   "id": "f5ff8af0-2fc0-4c47-9794-9be1787e842b",
   "metadata": {},
   "outputs": [
    {
     "data": {
      "text/plain": [
       "2"
      ]
     },
     "execution_count": 20,
     "metadata": {},
     "output_type": "execute_result"
    }
   ],
   "source": [
    "e.ndim  # Anzahl Dimensionen"
   ]
  },
  {
   "cell_type": "code",
   "execution_count": 21,
   "id": "948b5e6e-dccb-4b4e-88fe-f67299c6518f",
   "metadata": {},
   "outputs": [
    {
     "data": {
      "text/plain": [
       "9"
      ]
     },
     "execution_count": 21,
     "metadata": {},
     "output_type": "execute_result"
    }
   ],
   "source": [
    "e.size  # Anzahl Elemente"
   ]
  },
  {
   "cell_type": "code",
   "execution_count": 22,
   "id": "8e85f17a-d9e3-42ba-a698-471e34cc9645",
   "metadata": {},
   "outputs": [
    {
     "data": {
      "text/plain": [
       "(3, 3)"
      ]
     },
     "execution_count": 22,
     "metadata": {},
     "output_type": "execute_result"
    }
   ],
   "source": [
    "e.shape  # Form (hier 3x3)"
   ]
  },
  {
   "cell_type": "markdown",
   "id": "d56ddd50-2868-44c8-901b-d5964576414c",
   "metadata": {},
   "source": [
    "Index hier auch sehr wichtig"
   ]
  },
  {
   "cell_type": "code",
   "execution_count": 23,
   "id": "70d8115f-a769-40d2-817c-44bba1f4442b",
   "metadata": {},
   "outputs": [
    {
     "data": {
      "text/plain": [
       "array([4, 5, 6])"
      ]
     },
     "execution_count": 23,
     "metadata": {},
     "output_type": "execute_result"
    }
   ],
   "source": [
    "e[1]"
   ]
  },
  {
   "cell_type": "code",
   "execution_count": 24,
   "id": "8d0a5bca-30c9-4676-a79e-d4db4ec5c246",
   "metadata": {},
   "outputs": [
    {
     "data": {
      "text/plain": [
       "4"
      ]
     },
     "execution_count": 24,
     "metadata": {},
     "output_type": "execute_result"
    }
   ],
   "source": [
    "e[1][0]  # Zeile 1, Spalte 0"
   ]
  },
  {
   "cell_type": "code",
   "execution_count": 25,
   "id": "f8730dfb-afca-43cf-8521-c1fca733779a",
   "metadata": {},
   "outputs": [
    {
     "data": {
      "text/plain": [
       "4"
      ]
     },
     "execution_count": 25,
     "metadata": {},
     "output_type": "execute_result"
    }
   ],
   "source": [
    "e[1, 0]  # Selbiges wie darüber, nur mit Numpy möglich"
   ]
  },
  {
   "cell_type": "markdown",
   "id": "aadc90dd-b0ab-43f3-bc24-6e3aaa49c2cb",
   "metadata": {},
   "source": [
    "### Slicing von Matrizen"
   ]
  },
  {
   "cell_type": "markdown",
   "id": "1dd9c601-cb6e-44e9-9a52-4054b0f7a68f",
   "metadata": {},
   "source": [
    "-> Teile einer Matrix entnehmen\n",
    "\n",
    "z.B.:\n",
    "\n",
    "e[1:]\n",
    "\n",
    "e[:]\n",
    "\n",
    "e[:, 2]"
   ]
  },
  {
   "cell_type": "code",
   "execution_count": 26,
   "id": "b7e9f349-f24f-4813-be4e-ac94ad3f405a",
   "metadata": {},
   "outputs": [
    {
     "data": {
      "text/plain": [
       "array([[4, 5, 6],\n",
       "       [7, 8, 9]])"
      ]
     },
     "execution_count": 26,
     "metadata": {},
     "output_type": "execute_result"
    }
   ],
   "source": [
    "e[1:]"
   ]
  },
  {
   "cell_type": "code",
   "execution_count": 27,
   "id": "828f0936-82ea-4ab3-b2b4-f1a2e0e397dc",
   "metadata": {},
   "outputs": [
    {
     "data": {
      "text/plain": [
       "array([[1, 2, 3],\n",
       "       [4, 5, 6],\n",
       "       [7, 8, 9]])"
      ]
     },
     "execution_count": 27,
     "metadata": {},
     "output_type": "execute_result"
    }
   ],
   "source": [
    "e[:]"
   ]
  },
  {
   "cell_type": "code",
   "execution_count": 28,
   "id": "8864bc38-4e07-4c55-bb92-9cf8e4c6d9e1",
   "metadata": {},
   "outputs": [
    {
     "data": {
      "text/plain": [
       "array([7, 8, 9])"
      ]
     },
     "execution_count": 28,
     "metadata": {},
     "output_type": "execute_result"
    }
   ],
   "source": [
    "e[-1]"
   ]
  },
  {
   "cell_type": "code",
   "execution_count": 29,
   "id": "d9877eba-782e-4242-9675-b501728069dc",
   "metadata": {},
   "outputs": [
    {
     "data": {
      "text/plain": [
       "array([3, 6, 9])"
      ]
     },
     "execution_count": 29,
     "metadata": {},
     "output_type": "execute_result"
    }
   ],
   "source": [
    "e[:, 2]  # Letzte Spalte als ein Array nehmen"
   ]
  },
  {
   "cell_type": "code",
   "execution_count": 30,
   "id": "b8307c30-bb97-4f85-b8fa-82867ae4b1e1",
   "metadata": {},
   "outputs": [
    {
     "data": {
      "text/plain": [
       "array([[2, 3],\n",
       "       [5, 6],\n",
       "       [8, 9]])"
      ]
     },
     "execution_count": 30,
     "metadata": {},
     "output_type": "execute_result"
    }
   ],
   "source": [
    "e[:, 1:]"
   ]
  },
  {
   "cell_type": "code",
   "execution_count": 31,
   "id": "5eee7160-c155-4b37-b5a9-1d08a81f98fc",
   "metadata": {},
   "outputs": [
    {
     "data": {
      "text/plain": [
       "array([[4, 5],\n",
       "       [7, 8]])"
      ]
     },
     "execution_count": 31,
     "metadata": {},
     "output_type": "execute_result"
    }
   ],
   "source": [
    "e[1:, :2]"
   ]
  },
  {
   "cell_type": "code",
   "execution_count": 32,
   "id": "a74be4dc-2b72-4327-ae2c-c011dd72c770",
   "metadata": {},
   "outputs": [
    {
     "data": {
      "text/plain": [
       "array([[2, 3],\n",
       "       [5, 6]])"
      ]
     },
     "execution_count": 32,
     "metadata": {},
     "output_type": "execute_result"
    }
   ],
   "source": [
    "e[:2, 1:]"
   ]
  },
  {
   "cell_type": "markdown",
   "id": "59770065-0e53-4d4e-a0c7-89460e1c17ec",
   "metadata": {},
   "source": [
    "### Neue Werte eintragen"
   ]
  },
  {
   "cell_type": "code",
   "execution_count": 33,
   "id": "12e1d45e-0584-486d-8d43-220f4e6ca29e",
   "metadata": {},
   "outputs": [],
   "source": [
    "e[1, 1] = 10"
   ]
  },
  {
   "cell_type": "code",
   "execution_count": 34,
   "id": "7283d28b-3d33-494d-b999-f626ea87dd98",
   "metadata": {},
   "outputs": [
    {
     "data": {
      "text/plain": [
       "array([[ 1,  2,  3],\n",
       "       [ 4, 10,  6],\n",
       "       [ 7,  8,  9]])"
      ]
     },
     "execution_count": 34,
     "metadata": {},
     "output_type": "execute_result"
    }
   ],
   "source": [
    "e"
   ]
  },
  {
   "cell_type": "code",
   "execution_count": 35,
   "id": "b09f9dae-f69f-4b05-82ed-a56a9f73e1cd",
   "metadata": {},
   "outputs": [],
   "source": [
    "e[1] = 100"
   ]
  },
  {
   "cell_type": "code",
   "execution_count": 36,
   "id": "73d86a46-2128-44e7-b176-7244d3849c86",
   "metadata": {},
   "outputs": [
    {
     "data": {
      "text/plain": [
       "array([[  1,   2,   3],\n",
       "       [100, 100, 100],\n",
       "       [  7,   8,   9]])"
      ]
     },
     "execution_count": 36,
     "metadata": {},
     "output_type": "execute_result"
    }
   ],
   "source": [
    "e"
   ]
  },
  {
   "cell_type": "code",
   "execution_count": 37,
   "id": "6d714bbf-f81f-4f22-ac6e-c9f6117a99f1",
   "metadata": {},
   "outputs": [],
   "source": [
    "e[1] = [6, 5, 4]"
   ]
  },
  {
   "cell_type": "code",
   "execution_count": 38,
   "id": "ea0c2cb8-5698-4f67-95a4-0df64070faa8",
   "metadata": {},
   "outputs": [
    {
     "data": {
      "text/plain": [
       "array([[1, 2, 3],\n",
       "       [6, 5, 4],\n",
       "       [7, 8, 9]])"
      ]
     },
     "execution_count": 38,
     "metadata": {},
     "output_type": "execute_result"
    }
   ],
   "source": [
    "e"
   ]
  },
  {
   "cell_type": "markdown",
   "id": "2796dbe8-732f-41e7-a758-5f60327dc242",
   "metadata": {},
   "source": [
    "### Einfache Analyse von Arrays"
   ]
  },
  {
   "cell_type": "code",
   "execution_count": 39,
   "id": "33c399fa-f671-4a75-994c-d7bc7f155ec1",
   "metadata": {},
   "outputs": [
    {
     "data": {
      "text/plain": [
       "10"
      ]
     },
     "execution_count": 39,
     "metadata": {},
     "output_type": "execute_result"
    }
   ],
   "source": [
    "a.sum()"
   ]
  },
  {
   "cell_type": "code",
   "execution_count": 40,
   "id": "1035e4b3-d627-42ea-8c1c-12b3d71778f2",
   "metadata": {},
   "outputs": [
    {
     "data": {
      "text/plain": [
       "2.5"
      ]
     },
     "execution_count": 40,
     "metadata": {},
     "output_type": "execute_result"
    }
   ],
   "source": [
    "a.mean()"
   ]
  },
  {
   "cell_type": "code",
   "execution_count": 41,
   "id": "80dac76c-8186-4345-9ce1-ddedbc78db87",
   "metadata": {},
   "outputs": [
    {
     "data": {
      "text/plain": [
       "1.118033988749895"
      ]
     },
     "execution_count": 41,
     "metadata": {},
     "output_type": "execute_result"
    }
   ],
   "source": [
    "a.std()"
   ]
  },
  {
   "cell_type": "code",
   "execution_count": 42,
   "id": "235cab5b-79dc-41d4-a73a-118ff5f74d80",
   "metadata": {},
   "outputs": [
    {
     "data": {
      "text/plain": [
       "1.25"
      ]
     },
     "execution_count": 42,
     "metadata": {},
     "output_type": "execute_result"
    }
   ],
   "source": [
    "a.var()"
   ]
  },
  {
   "cell_type": "markdown",
   "id": "89a2cc82-0f9f-4130-a897-0532506767fb",
   "metadata": {},
   "source": [
    "Mit Matrizen"
   ]
  },
  {
   "cell_type": "code",
   "execution_count": 43,
   "id": "2d4c1085-1581-4ed5-a03c-a9d51d01ebf9",
   "metadata": {},
   "outputs": [
    {
     "data": {
      "text/plain": [
       "45"
      ]
     },
     "execution_count": 43,
     "metadata": {},
     "output_type": "execute_result"
    }
   ],
   "source": [
    "e.sum()"
   ]
  },
  {
   "cell_type": "code",
   "execution_count": 44,
   "id": "21c25e38-9ee6-43be-ba64-863135888327",
   "metadata": {},
   "outputs": [
    {
     "data": {
      "text/plain": [
       "5.0"
      ]
     },
     "execution_count": 44,
     "metadata": {},
     "output_type": "execute_result"
    }
   ],
   "source": [
    "e.mean()"
   ]
  },
  {
   "cell_type": "markdown",
   "id": "a7af583f-3c0d-415e-a368-5a58ff2d213d",
   "metadata": {},
   "source": [
    "Diese Funktionen können auch mit einem Index kombiniert werden"
   ]
  },
  {
   "cell_type": "code",
   "execution_count": 45,
   "id": "6e3b261a-4e98-406c-acdc-4d068063b5f1",
   "metadata": {},
   "outputs": [
    {
     "data": {
      "text/plain": [
       "6"
      ]
     },
     "execution_count": 45,
     "metadata": {},
     "output_type": "execute_result"
    }
   ],
   "source": [
    "e[0].sum()"
   ]
  },
  {
   "cell_type": "code",
   "execution_count": 46,
   "id": "001afe0b-9fcd-443d-9b0c-2df3c0b70f5d",
   "metadata": {},
   "outputs": [
    {
     "data": {
      "text/plain": [
       "3.5"
      ]
     },
     "execution_count": 46,
     "metadata": {},
     "output_type": "execute_result"
    }
   ],
   "source": [
    "e[:2, 1:].mean()"
   ]
  },
  {
   "cell_type": "markdown",
   "id": "ef2c17e1-d05a-47f0-89ee-8a8f7e078d5b",
   "metadata": {},
   "source": [
    "Bei diesen Funktionen kann auch eine Achse mitgegeben werden"
   ]
  },
  {
   "cell_type": "code",
   "execution_count": 47,
   "id": "fbe9fca6-6653-488d-bd95-e99adaaf5d6b",
   "metadata": {},
   "outputs": [
    {
     "data": {
      "text/plain": [
       "array([14, 15, 16])"
      ]
     },
     "execution_count": 47,
     "metadata": {},
     "output_type": "execute_result"
    }
   ],
   "source": [
    "e.sum(axis=0)  # Senkrecht"
   ]
  },
  {
   "cell_type": "code",
   "execution_count": 48,
   "id": "e5f6f77b-9d22-44c2-99d1-23272a2f7fce",
   "metadata": {},
   "outputs": [
    {
     "data": {
      "text/plain": [
       "array([ 6, 15, 24])"
      ]
     },
     "execution_count": 48,
     "metadata": {},
     "output_type": "execute_result"
    }
   ],
   "source": [
    "e.sum(axis=1)  # Waagrecht"
   ]
  },
  {
   "cell_type": "markdown",
   "id": "00efec2c-2174-4d19-a01c-ec8304756254",
   "metadata": {},
   "source": [
    "## Vektorisierung von Arrays"
   ]
  },
  {
   "cell_type": "markdown",
   "id": "ea81a2a2-b82b-43cb-bc69-90dd4ba7498a",
   "metadata": {},
   "source": [
    "Ein gesamtes Array mit einer einzigen Operation verarbeiten"
   ]
  },
  {
   "cell_type": "code",
   "execution_count": 49,
   "id": "c6ecfd8a-8bec-428d-9719-0809b8ab0ccc",
   "metadata": {},
   "outputs": [
    {
     "data": {
      "text/plain": [
       "array([10, 11, 12, 13, 14, 15, 16, 17, 18, 19])"
      ]
     },
     "execution_count": 49,
     "metadata": {},
     "output_type": "execute_result"
    }
   ],
   "source": [
    "np.array(range(10, 20))"
   ]
  },
  {
   "cell_type": "code",
   "execution_count": 50,
   "id": "01264979-c11a-4666-9ba9-7f22898d45be",
   "metadata": {},
   "outputs": [],
   "source": [
    "f = np.arange(10, 20)  # arange: array + range"
   ]
  },
  {
   "cell_type": "code",
   "execution_count": 51,
   "id": "774ab7f4-d580-424a-96b1-42686e48cec0",
   "metadata": {},
   "outputs": [
    {
     "data": {
      "text/plain": [
       "array([10, 11, 12, 13, 14, 15, 16, 17, 18, 19])"
      ]
     },
     "execution_count": 51,
     "metadata": {},
     "output_type": "execute_result"
    }
   ],
   "source": [
    "f"
   ]
  },
  {
   "cell_type": "markdown",
   "id": "14b3af53-8aed-4bb2-80d7-b79fe3950463",
   "metadata": {},
   "source": [
    "Aufgabe: Zahlen filtern, welche durch 2 teilbar sind"
   ]
  },
  {
   "cell_type": "code",
   "execution_count": 52,
   "id": "ce423751-a235-4964-94fb-a7625f8d321e",
   "metadata": {},
   "outputs": [
    {
     "data": {
      "text/plain": [
       "array([20, 21, 22, 23, 24, 25, 26, 27, 28, 29])"
      ]
     },
     "execution_count": 52,
     "metadata": {},
     "output_type": "execute_result"
    }
   ],
   "source": [
    "f + 10"
   ]
  },
  {
   "cell_type": "code",
   "execution_count": 53,
   "id": "ab8d4baa-9c1c-45e8-bf40-11022714ec0d",
   "metadata": {},
   "outputs": [
    {
     "data": {
      "text/plain": [
       "array([100, 121, 144, 169, 196, 225, 256, 289, 324, 361])"
      ]
     },
     "execution_count": 53,
     "metadata": {},
     "output_type": "execute_result"
    }
   ],
   "source": [
    "f * f"
   ]
  },
  {
   "cell_type": "markdown",
   "id": "68e33704-e775-4db1-8e1c-b8ae3e52bccf",
   "metadata": {},
   "source": [
    "### Boolean Masken\n",
    "Ein Array mit einer Bedingung vergleichen\n",
    "\n",
    "Verwendung: array[Bedingung]"
   ]
  },
  {
   "cell_type": "code",
   "execution_count": 54,
   "id": "57cc3e67-258c-4944-bad5-16373374c5bd",
   "metadata": {},
   "outputs": [
    {
     "data": {
      "text/plain": [
       "array([ True, False,  True, False,  True, False,  True, False,  True,\n",
       "       False])"
      ]
     },
     "execution_count": 54,
     "metadata": {},
     "output_type": "execute_result"
    }
   ],
   "source": [
    "f % 2 == 0"
   ]
  },
  {
   "cell_type": "code",
   "execution_count": 55,
   "id": "4a67b9bb-4664-4fbf-8bff-21d557023b16",
   "metadata": {},
   "outputs": [
    {
     "data": {
      "text/plain": [
       "array([10, 12, 14, 16, 18])"
      ]
     },
     "execution_count": 55,
     "metadata": {},
     "output_type": "execute_result"
    }
   ],
   "source": [
    "f[f % 2 == 0]"
   ]
  },
  {
   "cell_type": "code",
   "execution_count": 56,
   "id": "16c7016f-03d5-466a-b4da-bd477fc1fd01",
   "metadata": {},
   "outputs": [
    {
     "data": {
      "text/plain": [
       "array([15, 16, 17, 18, 19])"
      ]
     },
     "execution_count": 56,
     "metadata": {},
     "output_type": "execute_result"
    }
   ],
   "source": [
    "f[f >= 15]"
   ]
  },
  {
   "cell_type": "code",
   "execution_count": 57,
   "id": "4b6c822e-81e0-4de4-aa48-ec0c204938c8",
   "metadata": {},
   "outputs": [],
   "source": [
    "g = np.arange(0, 20, 2)"
   ]
  },
  {
   "cell_type": "code",
   "execution_count": 58,
   "id": "6fe1d41b-aaaf-4009-bb28-8629c4d5b480",
   "metadata": {},
   "outputs": [
    {
     "data": {
      "text/plain": [
       "array([ 0,  2,  4,  6,  8, 10, 12, 14, 16, 18])"
      ]
     },
     "execution_count": 58,
     "metadata": {},
     "output_type": "execute_result"
    }
   ],
   "source": [
    "g"
   ]
  },
  {
   "cell_type": "code",
   "execution_count": 59,
   "id": "f015b4c4-e4e1-4a4e-b825-50f9bbb61593",
   "metadata": {},
   "outputs": [
    {
     "name": "stderr",
     "output_type": "stream",
     "text": [
      "C:\\Users\\lk3\\AppData\\Local\\Temp\\ipykernel_13548\\2834963419.py:1: RuntimeWarning: divide by zero encountered in remainder\n",
      "  f[f % g == 0]  # Vektorisierung kann auch mit ganzen Arrays durchgeführt werden\n"
     ]
    },
    {
     "data": {
      "text/plain": [
       "array([10, 12])"
      ]
     },
     "execution_count": 59,
     "metadata": {},
     "output_type": "execute_result"
    }
   ],
   "source": [
    "f[f % g == 0]  # Vektorisierung kann auch mit ganzen Arrays durchgeführt werden"
   ]
  },
  {
   "cell_type": "code",
   "execution_count": 60,
   "id": "e1822ff9-1c10-43da-94d9-339045de12e2",
   "metadata": {},
   "outputs": [
    {
     "name": "stdout",
     "output_type": "stream",
     "text": [
      "[10 11 12 13 14 15 16 17 18 19]\n",
      "[ 0  2  4  6  8 10 12 14 16 18]\n"
     ]
    }
   ],
   "source": [
    "# Alle Werte, bei denen die obere dividiert durch die untere Zahl 0 ergibt\n",
    "print(f)\n",
    "print(g)"
   ]
  },
  {
   "cell_type": "code",
   "execution_count": 61,
   "id": "48408eac-e54b-40d8-8735-7c8f3084193c",
   "metadata": {},
   "outputs": [
    {
     "data": {
      "text/plain": [
       "array([[1, 2, 3],\n",
       "       [6, 5, 4],\n",
       "       [7, 8, 9]])"
      ]
     },
     "execution_count": 61,
     "metadata": {},
     "output_type": "execute_result"
    }
   ],
   "source": [
    "e"
   ]
  },
  {
   "cell_type": "code",
   "execution_count": 62,
   "id": "6a8c5d77-fe88-4e3e-867f-28f855716194",
   "metadata": {},
   "outputs": [
    {
     "data": {
      "text/plain": [
       "5.0"
      ]
     },
     "execution_count": 62,
     "metadata": {},
     "output_type": "execute_result"
    }
   ],
   "source": [
    "e.mean()"
   ]
  },
  {
   "cell_type": "markdown",
   "id": "a1ecbe4a-e2df-4332-aaf5-0c038496411d",
   "metadata": {},
   "source": [
    "Alle Werte finden, welche unter dem Durchschnitt sind"
   ]
  },
  {
   "cell_type": "code",
   "execution_count": 63,
   "id": "c27a41ac-5b70-40b0-86ac-5970626b17fe",
   "metadata": {},
   "outputs": [
    {
     "data": {
      "text/plain": [
       "array([1, 2, 3, 4])"
      ]
     },
     "execution_count": 63,
     "metadata": {},
     "output_type": "execute_result"
    }
   ],
   "source": [
    "e[e < e.mean()]"
   ]
  },
  {
   "cell_type": "code",
   "execution_count": 64,
   "id": "5a9f0bc2-11f9-43ca-a445-c1de8fe67970",
   "metadata": {},
   "outputs": [
    {
     "data": {
      "text/plain": [
       "array([6, 7, 8, 9])"
      ]
     },
     "execution_count": 64,
     "metadata": {},
     "output_type": "execute_result"
    }
   ],
   "source": [
    "e[e > e.mean()]"
   ]
  },
  {
   "cell_type": "code",
   "execution_count": 65,
   "id": "c27d2641-61af-46d7-ab54-ca19155429a9",
   "metadata": {},
   "outputs": [],
   "source": [
    "h = np.random.randint(100)  # Eine Random Zahl"
   ]
  },
  {
   "cell_type": "code",
   "execution_count": 66,
   "id": "b20dc350-fb40-4ae3-86d4-1949096cb9ef",
   "metadata": {},
   "outputs": [
    {
     "data": {
      "text/plain": [
       "10"
      ]
     },
     "execution_count": 66,
     "metadata": {},
     "output_type": "execute_result"
    }
   ],
   "source": [
    "h"
   ]
  },
  {
   "cell_type": "code",
   "execution_count": 67,
   "id": "6da38d55-e91f-4555-b7f9-fff337f02296",
   "metadata": {},
   "outputs": [],
   "source": [
    "h = np.random.randint(100, size=(10, 10))"
   ]
  },
  {
   "cell_type": "code",
   "execution_count": 68,
   "id": "13d20d65-4f5a-4297-8669-e6c72975d54f",
   "metadata": {},
   "outputs": [
    {
     "data": {
      "text/plain": [
       "array([[77,  2, 60, 74, 52,  9, 11,  0,  6, 46],\n",
       "       [89, 94, 70, 51, 23, 46, 50, 86, 46, 25],\n",
       "       [81, 19, 62, 29, 44, 75, 81, 11, 10, 32],\n",
       "       [92, 91, 81, 64, 51, 29,  5, 13, 19, 10],\n",
       "       [77, 95,  9, 25, 13, 21, 86, 78, 97, 27],\n",
       "       [15, 70, 74, 62, 79, 79, 44, 37, 81, 67],\n",
       "       [18, 92, 27, 50, 35, 87, 52, 58, 46, 15],\n",
       "       [95, 78, 40, 33, 71, 12, 96,  0, 37, 51],\n",
       "       [42, 82, 75, 55, 91, 26,  3, 40, 76, 82],\n",
       "       [ 2, 32, 90, 23, 70, 70, 42, 62,  0, 55]])"
      ]
     },
     "execution_count": 68,
     "metadata": {},
     "output_type": "execute_result"
    }
   ],
   "source": [
    "h"
   ]
  },
  {
   "cell_type": "code",
   "execution_count": 69,
   "id": "2ee74ca0-c4e8-4879-9c6a-9d8b9a88039c",
   "metadata": {},
   "outputs": [],
   "source": [
    "g50 = h[h > 50]"
   ]
  },
  {
   "cell_type": "code",
   "execution_count": 70,
   "id": "2721daa6-1d66-4ce9-b0b8-8d8cde19e29a",
   "metadata": {},
   "outputs": [
    {
     "data": {
      "text/plain": [
       "array([77, 60, 74, 52, 89, 94, 70, 51, 86, 81, 62, 75, 81, 92, 91, 81, 64,\n",
       "       51, 77, 95, 86, 78, 97, 70, 74, 62, 79, 79, 81, 67, 92, 87, 52, 58,\n",
       "       95, 78, 71, 96, 51, 82, 75, 55, 91, 76, 82, 90, 70, 70, 62, 55])"
      ]
     },
     "execution_count": 70,
     "metadata": {},
     "output_type": "execute_result"
    }
   ],
   "source": [
    "g50"
   ]
  },
  {
   "cell_type": "code",
   "execution_count": 71,
   "id": "2f4f0a4d-2fbf-4e28-8d83-e1914feecdec",
   "metadata": {},
   "outputs": [
    {
     "data": {
      "text/plain": [
       "50"
      ]
     },
     "execution_count": 71,
     "metadata": {},
     "output_type": "execute_result"
    }
   ],
   "source": [
    "len(g50)"
   ]
  },
  {
   "cell_type": "markdown",
   "id": "5ae8702c-d18c-4f80-9069-7923709efda4",
   "metadata": {},
   "source": [
    "## Performance"
   ]
  },
  {
   "cell_type": "code",
   "execution_count": 72,
   "id": "a027031d-9e26-4199-9bb6-f5b078b7e922",
   "metadata": {},
   "outputs": [],
   "source": [
    "import sys"
   ]
  },
  {
   "cell_type": "code",
   "execution_count": 73,
   "id": "d26f5d93-4db6-4271-8a62-a4eb1f762e26",
   "metadata": {},
   "outputs": [],
   "source": [
    "x = 5"
   ]
  },
  {
   "cell_type": "code",
   "execution_count": 74,
   "id": "e17ef00e-db7b-4985-897f-3dedb4fc9df8",
   "metadata": {},
   "outputs": [
    {
     "data": {
      "text/plain": [
       "28"
      ]
     },
     "execution_count": 74,
     "metadata": {},
     "output_type": "execute_result"
    }
   ],
   "source": [
    "sys.getsizeof(x)  # 28 Byte für einen Python Int"
   ]
  },
  {
   "cell_type": "code",
   "execution_count": 75,
   "id": "0f1998ea-f748-4a4d-95ad-e6f64c5eec05",
   "metadata": {},
   "outputs": [],
   "source": [
    "i = np.array([1])"
   ]
  },
  {
   "cell_type": "code",
   "execution_count": 76,
   "id": "fbda6365-c451-480a-9bae-58c9b77ac427",
   "metadata": {},
   "outputs": [
    {
     "data": {
      "text/plain": [
       "array([1])"
      ]
     },
     "execution_count": 76,
     "metadata": {},
     "output_type": "execute_result"
    }
   ],
   "source": [
    "i"
   ]
  },
  {
   "cell_type": "code",
   "execution_count": 77,
   "id": "1af24ad9-4380-4931-8f0f-669fbd570c9e",
   "metadata": {},
   "outputs": [
    {
     "data": {
      "text/plain": [
       "4"
      ]
     },
     "execution_count": 77,
     "metadata": {},
     "output_type": "execute_result"
    }
   ],
   "source": [
    "np.dtype(int).itemsize"
   ]
  },
  {
   "cell_type": "code",
   "execution_count": 78,
   "id": "26b973e1-fce4-4d58-bfe5-87581751d94e",
   "metadata": {},
   "outputs": [
    {
     "data": {
      "text/plain": [
       "1"
      ]
     },
     "execution_count": 78,
     "metadata": {},
     "output_type": "execute_result"
    }
   ],
   "source": [
    "np.dtype(np.int8).itemsize"
   ]
  },
  {
   "cell_type": "code",
   "execution_count": 79,
   "id": "e17ada64-adc9-46db-aae7-c916d3b4d1cb",
   "metadata": {},
   "outputs": [
    {
     "data": {
      "text/plain": [
       "2"
      ]
     },
     "execution_count": 79,
     "metadata": {},
     "output_type": "execute_result"
    }
   ],
   "source": [
    "np.dtype(np.float16).itemsize"
   ]
  },
  {
   "cell_type": "markdown",
   "id": "4ad62a60-476e-4869-803d-52f0f7da9a80",
   "metadata": {},
   "source": [
    "Vergleich von Python Liste und Numpy Array"
   ]
  },
  {
   "cell_type": "code",
   "execution_count": 80,
   "id": "6ac38ab8-251e-41a7-af9a-151e0ded00f7",
   "metadata": {},
   "outputs": [],
   "source": [
    "pList = list(range(1_000_000))"
   ]
  },
  {
   "cell_type": "code",
   "execution_count": 81,
   "id": "01dc9b08-35ab-4d50-9c32-f7fd2a471e15",
   "metadata": {},
   "outputs": [],
   "source": [
    "pArray = np.array(range(1_000_000))"
   ]
  },
  {
   "cell_type": "code",
   "execution_count": 82,
   "id": "99b7d43a-1080-4549-b2b1-6124773f253e",
   "metadata": {},
   "outputs": [
    {
     "name": "stdout",
     "output_type": "stream",
     "text": [
      "CPU times: total: 141 ms\n",
      "Wall time: 151 ms\n"
     ]
    },
    {
     "data": {
      "text/plain": [
       "333332833333500000"
      ]
     },
     "execution_count": 82,
     "metadata": {},
     "output_type": "execute_result"
    }
   ],
   "source": [
    "%time sum([x ** 2 for x in pList])"
   ]
  },
  {
   "cell_type": "code",
   "execution_count": 83,
   "id": "c48d1ceb-3c62-4778-8f83-26ff9b54f76d",
   "metadata": {},
   "outputs": [
    {
     "name": "stdout",
     "output_type": "stream",
     "text": [
      "CPU times: total: 0 ns\n",
      "Wall time: 3.01 ms\n"
     ]
    },
    {
     "data": {
      "text/plain": [
       "584144992"
      ]
     },
     "execution_count": 83,
     "metadata": {},
     "output_type": "execute_result"
    }
   ],
   "source": [
    "%time np.sum(pArray ** 2)"
   ]
  },
  {
   "cell_type": "markdown",
   "id": "0275d7be-34b4-4903-821c-3c942e306a40",
   "metadata": {},
   "source": [
    "150ms -> 3ms"
   ]
  },
  {
   "cell_type": "markdown",
   "id": "0d711c1f-8f0f-473a-aa1b-5cd8c1cdfd7d",
   "metadata": {},
   "source": [
    "## Andere Funktionen"
   ]
  },
  {
   "cell_type": "markdown",
   "id": "48b1ded5-70c6-4249-bb85-fb1ea3195ca0",
   "metadata": {},
   "source": [
    "#### Zufallszahlen"
   ]
  },
  {
   "cell_type": "code",
   "execution_count": 85,
   "id": "6a521bf7-fe89-4b29-8ada-d18d2a82cb10",
   "metadata": {},
   "outputs": [
    {
     "data": {
      "text/plain": [
       "array([0.81764974, 0.26944901, 0.02890722, 0.96061274, 0.53236791,\n",
       "       0.94012166, 0.79826229, 0.27365162, 0.66845558, 0.91303774,\n",
       "       0.90398939, 0.74820547, 0.23196984, 0.65941023, 0.89595708,\n",
       "       0.86727629, 0.08640634, 0.88171943, 0.33741521, 0.3763924 ,\n",
       "       0.2191705 , 0.01503626, 0.12174629, 0.70171915, 0.63270167,\n",
       "       0.31206865, 0.51487361, 0.89303782, 0.53430418, 0.3404478 ,\n",
       "       0.76404361, 0.6746336 , 0.41613949, 0.17781342, 0.41460633,\n",
       "       0.32627217, 0.99743212, 0.97064847, 0.26871185, 0.04891679,\n",
       "       0.19882804, 0.33705324, 0.87988677, 0.14968568, 0.66172828,\n",
       "       0.30915744, 0.13395406, 0.38516222, 0.0509083 , 0.57830116,\n",
       "       0.80847593, 0.32544063, 0.40117589, 0.47319811, 0.33042188,\n",
       "       0.00259253, 0.46470741, 0.64282008, 0.30939323, 0.39747704,\n",
       "       0.87135809, 0.76681499, 0.04150795, 0.42272597, 0.12353841,\n",
       "       0.37756244, 0.16379295, 0.55422825, 0.93316588, 0.5655237 ,\n",
       "       0.91384819, 0.51921845, 0.40807526, 0.86123509, 0.15295501,\n",
       "       0.25019447, 0.05123471, 0.98694679, 0.94284252, 0.95167822,\n",
       "       0.59398662, 0.78608013, 0.93822777, 0.65280444, 0.32724578,\n",
       "       0.65089518, 0.93995615, 0.26554666, 0.70682237, 0.26639026,\n",
       "       0.5415714 , 0.28901494, 0.53201205, 0.71464596, 0.76285074,\n",
       "       0.02041367, 0.96985065, 0.75246091, 0.32249049, 0.29816751])"
      ]
     },
     "execution_count": 85,
     "metadata": {},
     "output_type": "execute_result"
    }
   ],
   "source": [
    "np.random.random(100)  # 100 Kommazahlen zw. 0 und 1"
   ]
  },
  {
   "cell_type": "code",
   "execution_count": 88,
   "id": "0afc6dcb-a7c7-4dc2-b46f-75fc47c6f531",
   "metadata": {},
   "outputs": [
    {
     "data": {
      "text/plain": [
       "array([41, 69, 85, 45, 39, 90, 54, 80, 15, 30, 58, 45, 12, 99, 95, 61, 68,\n",
       "       12, 56, 78, 86, 89,  2, 33, 64, 22, 27, 48, 31, 84, 47, 42, 59, 39,\n",
       "       63,  2, 23, 12, 79, 79, 72, 62, 46, 73, 47, 33, 43, 67, 72,  7, 81,\n",
       "       51, 45, 87, 54, 28, 59, 55, 29,  1, 96, 60, 13, 64, 46, 79, 98, 78,\n",
       "       63, 57, 96, 82, 94, 90, 85, 20,  0, 59, 16,  6, 33, 30, 16,  7, 16,\n",
       "       22, 28, 78, 52, 92,  0, 88, 74, 38, 81, 80, 85, 41, 83, 89])"
      ]
     },
     "execution_count": 88,
     "metadata": {},
     "output_type": "execute_result"
    }
   ],
   "source": [
    "np.random.randint(100, size=(100))"
   ]
  },
  {
   "cell_type": "markdown",
   "id": "b7e7f3aa-5a6a-4e61-a6da-4c2503b329c0",
   "metadata": {},
   "source": [
    "#### Form von einem Array/einer Matrix ändern"
   ]
  },
  {
   "cell_type": "code",
   "execution_count": 89,
   "id": "5bb1c3be-6de1-4f39-b4aa-e43caee9b0d3",
   "metadata": {},
   "outputs": [],
   "source": [
    "j = np.arange(0, 100)"
   ]
  },
  {
   "cell_type": "code",
   "execution_count": 92,
   "id": "fe004ff1-5ec1-4e5d-8572-9fbe8659de39",
   "metadata": {},
   "outputs": [
    {
     "data": {
      "text/plain": [
       "array([[ 0,  1,  2,  3,  4,  5,  6,  7,  8,  9],\n",
       "       [10, 11, 12, 13, 14, 15, 16, 17, 18, 19],\n",
       "       [20, 21, 22, 23, 24, 25, 26, 27, 28, 29],\n",
       "       [30, 31, 32, 33, 34, 35, 36, 37, 38, 39],\n",
       "       [40, 41, 42, 43, 44, 45, 46, 47, 48, 49],\n",
       "       [50, 51, 52, 53, 54, 55, 56, 57, 58, 59],\n",
       "       [60, 61, 62, 63, 64, 65, 66, 67, 68, 69],\n",
       "       [70, 71, 72, 73, 74, 75, 76, 77, 78, 79],\n",
       "       [80, 81, 82, 83, 84, 85, 86, 87, 88, 89],\n",
       "       [90, 91, 92, 93, 94, 95, 96, 97, 98, 99]])"
      ]
     },
     "execution_count": 92,
     "metadata": {},
     "output_type": "execute_result"
    }
   ],
   "source": [
    "j.reshape(10, 10)  # 100 Array zu 10x10 Matrix umwandeln"
   ]
  },
  {
   "cell_type": "code",
   "execution_count": 95,
   "id": "872575db-273a-4e20-8cbd-23de120d79fe",
   "metadata": {},
   "outputs": [],
   "source": [
    "# j.reshape(3, 33)  # Nur 99 Platz für 100 Elemente -> Nicht möglich"
   ]
  },
  {
   "cell_type": "code",
   "execution_count": 97,
   "id": "9caf393d-659e-474d-806d-6032bfc36df9",
   "metadata": {},
   "outputs": [
    {
     "data": {
      "text/plain": [
       "array([[[ 0,  1,  2,  3],\n",
       "        [ 4,  5,  6,  7],\n",
       "        [ 8,  9, 10, 11],\n",
       "        [12, 13, 14, 15],\n",
       "        [16, 17, 18, 19]],\n",
       "\n",
       "       [[20, 21, 22, 23],\n",
       "        [24, 25, 26, 27],\n",
       "        [28, 29, 30, 31],\n",
       "        [32, 33, 34, 35],\n",
       "        [36, 37, 38, 39]],\n",
       "\n",
       "       [[40, 41, 42, 43],\n",
       "        [44, 45, 46, 47],\n",
       "        [48, 49, 50, 51],\n",
       "        [52, 53, 54, 55],\n",
       "        [56, 57, 58, 59]],\n",
       "\n",
       "       [[60, 61, 62, 63],\n",
       "        [64, 65, 66, 67],\n",
       "        [68, 69, 70, 71],\n",
       "        [72, 73, 74, 75],\n",
       "        [76, 77, 78, 79]],\n",
       "\n",
       "       [[80, 81, 82, 83],\n",
       "        [84, 85, 86, 87],\n",
       "        [88, 89, 90, 91],\n",
       "        [92, 93, 94, 95],\n",
       "        [96, 97, 98, 99]]])"
      ]
     },
     "execution_count": 97,
     "metadata": {},
     "output_type": "execute_result"
    }
   ],
   "source": [
    "j.reshape(5, 5, 4)  # Quader mit 5x4 Oberfläche und 5 Schichten"
   ]
  },
  {
   "cell_type": "code",
   "execution_count": 98,
   "id": "d236f5c7-18e2-45e1-b169-8dbb0c67675c",
   "metadata": {},
   "outputs": [],
   "source": [
    "k = np.arange(0, 99).reshape(11, 9)"
   ]
  },
  {
   "cell_type": "code",
   "execution_count": 99,
   "id": "c244c2f3-bc09-4fa6-9119-bbd34dbb4388",
   "metadata": {},
   "outputs": [
    {
     "data": {
      "text/plain": [
       "array([[ 0,  1,  2,  3,  4,  5,  6,  7,  8],\n",
       "       [ 9, 10, 11, 12, 13, 14, 15, 16, 17],\n",
       "       [18, 19, 20, 21, 22, 23, 24, 25, 26],\n",
       "       [27, 28, 29, 30, 31, 32, 33, 34, 35],\n",
       "       [36, 37, 38, 39, 40, 41, 42, 43, 44],\n",
       "       [45, 46, 47, 48, 49, 50, 51, 52, 53],\n",
       "       [54, 55, 56, 57, 58, 59, 60, 61, 62],\n",
       "       [63, 64, 65, 66, 67, 68, 69, 70, 71],\n",
       "       [72, 73, 74, 75, 76, 77, 78, 79, 80],\n",
       "       [81, 82, 83, 84, 85, 86, 87, 88, 89],\n",
       "       [90, 91, 92, 93, 94, 95, 96, 97, 98]])"
      ]
     },
     "execution_count": 99,
     "metadata": {},
     "output_type": "execute_result"
    }
   ],
   "source": [
    "k"
   ]
  },
  {
   "cell_type": "code",
   "execution_count": 100,
   "id": "4ebcdd1d-017a-4f0e-a3d3-d6dcfc087456",
   "metadata": {},
   "outputs": [
    {
     "data": {
      "text/plain": [
       "array([ 0,  1,  2,  3,  4,  5,  6,  7,  8,  9, 10, 11, 12, 13, 14, 15, 16,\n",
       "       17, 18, 19, 20, 21, 22, 23, 24, 25, 26, 27, 28, 29, 30, 31, 32, 33,\n",
       "       34, 35, 36, 37, 38, 39, 40, 41, 42, 43, 44, 45, 46, 47, 48, 49, 50,\n",
       "       51, 52, 53, 54, 55, 56, 57, 58, 59, 60, 61, 62, 63, 64, 65, 66, 67,\n",
       "       68, 69, 70, 71, 72, 73, 74, 75, 76, 77, 78, 79, 80, 81, 82, 83, 84,\n",
       "       85, 86, 87, 88, 89, 90, 91, 92, 93, 94, 95, 96, 97, 98])"
      ]
     },
     "execution_count": 100,
     "metadata": {},
     "output_type": "execute_result"
    }
   ],
   "source": [
    "k.reshape(99)"
   ]
  },
  {
   "cell_type": "code",
   "execution_count": 108,
   "id": "49805424-b0d5-435c-b8fc-abe931fa6c79",
   "metadata": {},
   "outputs": [
    {
     "data": {
      "text/plain": [
       "array([ 0,  1,  2,  3,  4,  5,  6,  7,  8,  9, 10, 11, 12, 13, 14, 15, 16,\n",
       "       17, 18, 19, 20, 21, 22, 23, 24, 25, 26, 27, 28, 29, 30, 31, 32, 33,\n",
       "       34, 35, 36, 37, 38, 39, 40, 41, 42, 43, 44, 45, 46, 47, 48, 49, 50,\n",
       "       51, 52, 53, 54, 55, 56, 57, 58, 59, 60, 61, 62, 63, 64, 65, 66, 67,\n",
       "       68, 69, 70, 71, 72, 73, 74, 75, 76, 77, 78, 79, 80, 81, 82, 83, 84,\n",
       "       85, 86, 87, 88, 89, 90, 91, 92, 93, 94, 95, 96, 97, 98])"
      ]
     },
     "execution_count": 108,
     "metadata": {},
     "output_type": "execute_result"
    }
   ],
   "source": [
    "k.reshape(-1)  # reshape(-1): Entferne alle Dimensionen"
   ]
  },
  {
   "cell_type": "code",
   "execution_count": 109,
   "id": "92fcb143-8cb3-4f4b-ae9a-09962ac07111",
   "metadata": {},
   "outputs": [],
   "source": [
    "l = j.reshape(5, 5, 4)"
   ]
  },
  {
   "cell_type": "code",
   "execution_count": 110,
   "id": "ee906fa9-727e-47f9-a83f-8aa2b20e124c",
   "metadata": {},
   "outputs": [
    {
     "data": {
      "text/plain": [
       "array([[[ 0,  1,  2,  3],\n",
       "        [ 4,  5,  6,  7],\n",
       "        [ 8,  9, 10, 11],\n",
       "        [12, 13, 14, 15],\n",
       "        [16, 17, 18, 19]],\n",
       "\n",
       "       [[20, 21, 22, 23],\n",
       "        [24, 25, 26, 27],\n",
       "        [28, 29, 30, 31],\n",
       "        [32, 33, 34, 35],\n",
       "        [36, 37, 38, 39]],\n",
       "\n",
       "       [[40, 41, 42, 43],\n",
       "        [44, 45, 46, 47],\n",
       "        [48, 49, 50, 51],\n",
       "        [52, 53, 54, 55],\n",
       "        [56, 57, 58, 59]],\n",
       "\n",
       "       [[60, 61, 62, 63],\n",
       "        [64, 65, 66, 67],\n",
       "        [68, 69, 70, 71],\n",
       "        [72, 73, 74, 75],\n",
       "        [76, 77, 78, 79]],\n",
       "\n",
       "       [[80, 81, 82, 83],\n",
       "        [84, 85, 86, 87],\n",
       "        [88, 89, 90, 91],\n",
       "        [92, 93, 94, 95],\n",
       "        [96, 97, 98, 99]]])"
      ]
     },
     "execution_count": 110,
     "metadata": {},
     "output_type": "execute_result"
    }
   ],
   "source": [
    "l"
   ]
  },
  {
   "cell_type": "code",
   "execution_count": 111,
   "id": "04938f77-c056-4a54-be0b-d1e37789bb26",
   "metadata": {},
   "outputs": [
    {
     "data": {
      "text/plain": [
       "array([ 0,  1,  2,  3,  4,  5,  6,  7,  8,  9, 10, 11, 12, 13, 14, 15, 16,\n",
       "       17, 18, 19, 20, 21, 22, 23, 24, 25, 26, 27, 28, 29, 30, 31, 32, 33,\n",
       "       34, 35, 36, 37, 38, 39, 40, 41, 42, 43, 44, 45, 46, 47, 48, 49, 50,\n",
       "       51, 52, 53, 54, 55, 56, 57, 58, 59, 60, 61, 62, 63, 64, 65, 66, 67,\n",
       "       68, 69, 70, 71, 72, 73, 74, 75, 76, 77, 78, 79, 80, 81, 82, 83, 84,\n",
       "       85, 86, 87, 88, 89, 90, 91, 92, 93, 94, 95, 96, 97, 98, 99])"
      ]
     },
     "execution_count": 111,
     "metadata": {},
     "output_type": "execute_result"
    }
   ],
   "source": [
    "l.reshape(-1)"
   ]
  },
  {
   "cell_type": "code",
   "execution_count": 116,
   "id": "f50f737d-63d2-450d-bdcc-bc23d4e450af",
   "metadata": {},
   "outputs": [],
   "source": [
    "m = np.arange(10).reshape(10, 1)"
   ]
  },
  {
   "cell_type": "code",
   "execution_count": 117,
   "id": "c92efa2f-4202-488f-b97f-3cedc668a365",
   "metadata": {},
   "outputs": [
    {
     "data": {
      "text/plain": [
       "array([[0],\n",
       "       [1],\n",
       "       [2],\n",
       "       [3],\n",
       "       [4],\n",
       "       [5],\n",
       "       [6],\n",
       "       [7],\n",
       "       [8],\n",
       "       [9]])"
      ]
     },
     "execution_count": 117,
     "metadata": {},
     "output_type": "execute_result"
    }
   ],
   "source": [
    "m"
   ]
  },
  {
   "cell_type": "code",
   "execution_count": 118,
   "id": "8f5f8457-233f-41d8-b6df-13ebcf2f0aa6",
   "metadata": {},
   "outputs": [
    {
     "data": {
      "text/plain": [
       "array([0, 1, 2, 3, 4, 5, 6, 7, 8, 9])"
      ]
     },
     "execution_count": 118,
     "metadata": {},
     "output_type": "execute_result"
    }
   ],
   "source": [
    "m.reshape(-1)"
   ]
  },
  {
   "cell_type": "markdown",
   "id": "19b8f2b4-99a5-4a2c-8fe7-49e20c586565",
   "metadata": {},
   "source": [
    "#### Zeros, Ones"
   ]
  },
  {
   "cell_type": "code",
   "execution_count": 121,
   "id": "7eae571c-100c-4c45-a9c0-7ef8b4f0710e",
   "metadata": {},
   "outputs": [
    {
     "data": {
      "text/plain": [
       "array([0., 0., 0., 0., 0., 0., 0., 0., 0., 0.])"
      ]
     },
     "execution_count": 121,
     "metadata": {},
     "output_type": "execute_result"
    }
   ],
   "source": [
    "np.zeros(10)"
   ]
  },
  {
   "cell_type": "code",
   "execution_count": 122,
   "id": "f6e95169-251d-475d-9b55-8a361ba15876",
   "metadata": {},
   "outputs": [
    {
     "data": {
      "text/plain": [
       "array([1., 1., 1., 1., 1., 1., 1., 1., 1., 1.])"
      ]
     },
     "execution_count": 122,
     "metadata": {},
     "output_type": "execute_result"
    }
   ],
   "source": [
    "np.ones(10)"
   ]
  },
  {
   "cell_type": "markdown",
   "id": "b16b1c39-a096-45c7-82b1-34632f715b03",
   "metadata": {},
   "source": [
    "Truthiness: Wann ist ein Wert True/False in Python?"
   ]
  },
  {
   "cell_type": "code",
   "execution_count": 123,
   "id": "7db20ab4-699f-418c-b824-d4a5ff13297a",
   "metadata": {},
   "outputs": [
    {
     "name": "stdout",
     "output_type": "stream",
     "text": [
      "True\n"
     ]
    }
   ],
   "source": [
    "print(bool(1))"
   ]
  },
  {
   "cell_type": "code",
   "execution_count": 125,
   "id": "bf57f2bd-00f6-41c4-84b1-70a2347ee796",
   "metadata": {},
   "outputs": [
    {
     "name": "stdout",
     "output_type": "stream",
     "text": [
      "False\n"
     ]
    }
   ],
   "source": [
    "print(bool(0))"
   ]
  },
  {
   "cell_type": "code",
   "execution_count": 127,
   "id": "ae1c142e-0cbc-410f-8e5d-9e8fabb79e81",
   "metadata": {},
   "outputs": [
    {
     "name": "stdout",
     "output_type": "stream",
     "text": [
      "True\n"
     ]
    }
   ],
   "source": [
    "print(bool(\"Hallo\"))"
   ]
  },
  {
   "cell_type": "code",
   "execution_count": 128,
   "id": "e993238e-b509-454d-9cad-ad6367c7a93c",
   "metadata": {},
   "outputs": [
    {
     "name": "stdout",
     "output_type": "stream",
     "text": [
      "False\n"
     ]
    }
   ],
   "source": [
    "print(bool(\"\"))"
   ]
  },
  {
   "cell_type": "markdown",
   "id": "6a756745-1267-4b65-b0fb-f956b14fcd09",
   "metadata": {},
   "source": [
    "#### Linspace"
   ]
  },
  {
   "cell_type": "markdown",
   "id": "9b06c37e-046d-439c-bae2-85990e009255",
   "metadata": {},
   "source": [
    "= linear Space"
   ]
  },
  {
   "cell_type": "code",
   "execution_count": 135,
   "id": "76f32baf-3052-47ba-bbb8-a25cd155c3bd",
   "metadata": {},
   "outputs": [],
   "source": [
    "n = np.linspace(0, 10, 10)  # X bis Y, mit Z Elementen"
   ]
  },
  {
   "cell_type": "code",
   "execution_count": 136,
   "id": "ece081e6-4b11-4862-a8e8-8bd3fbe7f8bc",
   "metadata": {},
   "outputs": [
    {
     "data": {
      "text/plain": [
       "array([ 0.        ,  1.11111111,  2.22222222,  3.33333333,  4.44444444,\n",
       "        5.55555556,  6.66666667,  7.77777778,  8.88888889, 10.        ])"
      ]
     },
     "execution_count": 136,
     "metadata": {},
     "output_type": "execute_result"
    }
   ],
   "source": [
    "n"
   ]
  },
  {
   "cell_type": "code",
   "execution_count": 139,
   "id": "b46e115c-e85c-4af3-92aa-2ae945868e5d",
   "metadata": {},
   "outputs": [
    {
     "data": {
      "text/plain": [
       "array([ 0. ,  0.5,  1. ,  1.5,  2. ,  2.5,  3. ,  3.5,  4. ,  4.5,  5. ,\n",
       "        5.5,  6. ,  6.5,  7. ,  7.5,  8. ,  8.5,  9. ,  9.5, 10. ])"
      ]
     },
     "execution_count": 139,
     "metadata": {},
     "output_type": "execute_result"
    }
   ],
   "source": [
    "np.linspace(0, 10, 21)"
   ]
  },
  {
   "cell_type": "code",
   "execution_count": 147,
   "id": "07527428-e2d6-4f63-9761-8e64232a3c29",
   "metadata": {},
   "outputs": [
    {
     "data": {
      "text/plain": [
       "array([-10. ,  -9.9,  -9.8,  -9.7,  -9.6,  -9.5,  -9.4,  -9.3,  -9.2,\n",
       "        -9.1,  -9. ,  -8.9,  -8.8,  -8.7,  -8.6,  -8.5,  -8.4,  -8.3,\n",
       "        -8.2,  -8.1,  -8. ,  -7.9,  -7.8,  -7.7,  -7.6,  -7.5,  -7.4,\n",
       "        -7.3,  -7.2,  -7.1,  -7. ,  -6.9,  -6.8,  -6.7,  -6.6,  -6.5,\n",
       "        -6.4,  -6.3,  -6.2,  -6.1,  -6. ,  -5.9,  -5.8,  -5.7,  -5.6,\n",
       "        -5.5,  -5.4,  -5.3,  -5.2,  -5.1,  -5. ,  -4.9,  -4.8,  -4.7,\n",
       "        -4.6,  -4.5,  -4.4,  -4.3,  -4.2,  -4.1,  -4. ,  -3.9,  -3.8,\n",
       "        -3.7,  -3.6,  -3.5,  -3.4,  -3.3,  -3.2,  -3.1,  -3. ,  -2.9,\n",
       "        -2.8,  -2.7,  -2.6,  -2.5,  -2.4,  -2.3,  -2.2,  -2.1,  -2. ,\n",
       "        -1.9,  -1.8,  -1.7,  -1.6,  -1.5,  -1.4,  -1.3,  -1.2,  -1.1,\n",
       "        -1. ,  -0.9,  -0.8,  -0.7,  -0.6,  -0.5,  -0.4,  -0.3,  -0.2,\n",
       "        -0.1,   0. ,   0.1,   0.2,   0.3,   0.4,   0.5,   0.6,   0.7,\n",
       "         0.8,   0.9,   1. ,   1.1,   1.2,   1.3,   1.4,   1.5,   1.6,\n",
       "         1.7,   1.8,   1.9,   2. ,   2.1,   2.2,   2.3,   2.4,   2.5,\n",
       "         2.6,   2.7,   2.8,   2.9,   3. ,   3.1,   3.2,   3.3,   3.4,\n",
       "         3.5,   3.6,   3.7,   3.8,   3.9,   4. ,   4.1,   4.2,   4.3,\n",
       "         4.4,   4.5,   4.6,   4.7,   4.8,   4.9,   5. ,   5.1,   5.2,\n",
       "         5.3,   5.4,   5.5,   5.6,   5.7,   5.8,   5.9,   6. ,   6.1,\n",
       "         6.2,   6.3,   6.4,   6.5,   6.6,   6.7,   6.8,   6.9,   7. ,\n",
       "         7.1,   7.2,   7.3,   7.4,   7.5,   7.6,   7.7,   7.8,   7.9,\n",
       "         8. ,   8.1,   8.2,   8.3,   8.4,   8.5,   8.6,   8.7,   8.8,\n",
       "         8.9,   9. ,   9.1,   9.2,   9.3,   9.4,   9.5,   9.6,   9.7,\n",
       "         9.8,   9.9,  10. ,  10.1,  10.2,  10.3,  10.4,  10.5,  10.6,\n",
       "        10.7,  10.8,  10.9,  11. ,  11.1,  11.2,  11.3,  11.4,  11.5,\n",
       "        11.6,  11.7,  11.8,  11.9,  12. ,  12.1,  12.2,  12.3,  12.4,\n",
       "        12.5,  12.6,  12.7,  12.8,  12.9,  13. ,  13.1,  13.2,  13.3,\n",
       "        13.4,  13.5,  13.6,  13.7,  13.8,  13.9,  14. ,  14.1,  14.2,\n",
       "        14.3,  14.4,  14.5,  14.6,  14.7,  14.8,  14.9,  15. ,  15.1,\n",
       "        15.2,  15.3,  15.4,  15.5,  15.6,  15.7,  15.8,  15.9,  16. ,\n",
       "        16.1,  16.2,  16.3,  16.4,  16.5,  16.6,  16.7,  16.8,  16.9,\n",
       "        17. ,  17.1,  17.2,  17.3,  17.4,  17.5,  17.6,  17.7,  17.8,\n",
       "        17.9,  18. ,  18.1,  18.2,  18.3,  18.4,  18.5,  18.6,  18.7,\n",
       "        18.8,  18.9,  19. ,  19.1,  19.2,  19.3,  19.4,  19.5,  19.6,\n",
       "        19.7,  19.8,  19.9,  20. ,  20.1,  20.2,  20.3,  20.4,  20.5,\n",
       "        20.6,  20.7,  20.8,  20.9,  21. ,  21.1,  21.2,  21.3,  21.4,\n",
       "        21.5,  21.6,  21.7,  21.8,  21.9,  22. ,  22.1,  22.2,  22.3,\n",
       "        22.4,  22.5,  22.6,  22.7,  22.8,  22.9,  23. ,  23.1,  23.2,\n",
       "        23.3,  23.4,  23.5,  23.6,  23.7,  23.8,  23.9,  24. ,  24.1,\n",
       "        24.2,  24.3,  24.4,  24.5,  24.6,  24.7,  24.8,  24.9,  25. ,\n",
       "        25.1,  25.2,  25.3,  25.4,  25.5,  25.6,  25.7,  25.8,  25.9,\n",
       "        26. ,  26.1,  26.2,  26.3,  26.4,  26.5,  26.6,  26.7,  26.8,\n",
       "        26.9,  27. ,  27.1,  27.2,  27.3,  27.4,  27.5,  27.6,  27.7,\n",
       "        27.8,  27.9,  28. ,  28.1,  28.2,  28.3,  28.4,  28.5,  28.6,\n",
       "        28.7,  28.8,  28.9,  29. ,  29.1,  29.2,  29.3,  29.4,  29.5,\n",
       "        29.6,  29.7,  29.8,  29.9,  30. ,  30.1,  30.2,  30.3,  30.4,\n",
       "        30.5,  30.6,  30.7,  30.8,  30.9,  31. ,  31.1,  31.2,  31.3,\n",
       "        31.4,  31.5,  31.6,  31.7,  31.8,  31.9,  32. ,  32.1,  32.2,\n",
       "        32.3,  32.4,  32.5,  32.6,  32.7,  32.8,  32.9,  33. ,  33.1,\n",
       "        33.2,  33.3,  33.4,  33.5,  33.6,  33.7,  33.8,  33.9,  34. ,\n",
       "        34.1,  34.2,  34.3,  34.4,  34.5,  34.6,  34.7,  34.8,  34.9,\n",
       "        35. ,  35.1,  35.2,  35.3,  35.4,  35.5,  35.6,  35.7,  35.8,\n",
       "        35.9,  36. ,  36.1,  36.2,  36.3,  36.4,  36.5,  36.6,  36.7,\n",
       "        36.8,  36.9,  37. ,  37.1,  37.2,  37.3,  37.4,  37.5,  37.6,\n",
       "        37.7,  37.8,  37.9,  38. ,  38.1,  38.2,  38.3,  38.4,  38.5,\n",
       "        38.6,  38.7,  38.8,  38.9,  39. ,  39.1,  39.2,  39.3,  39.4,\n",
       "        39.5,  39.6,  39.7,  39.8,  39.9,  40. ])"
      ]
     },
     "execution_count": 147,
     "metadata": {},
     "output_type": "execute_result"
    }
   ],
   "source": [
    "np.linspace(-10, 40, 501)"
   ]
  },
  {
   "cell_type": "markdown",
   "id": "f33c912e-56ce-49b8-8f63-8fdde6ee9090",
   "metadata": {},
   "source": [
    "#### hstack"
   ]
  },
  {
   "cell_type": "markdown",
   "id": "65bb15ff-86fe-4f6a-a418-7c264f612f6b",
   "metadata": {},
   "source": [
    "= horizontal stack"
   ]
  },
  {
   "cell_type": "code",
   "execution_count": 158,
   "id": "1be4bb69-02b9-4585-a213-7a63745035b6",
   "metadata": {},
   "outputs": [],
   "source": [
    "o = np.arange(100).reshape(10, 10)"
   ]
  },
  {
   "cell_type": "code",
   "execution_count": 159,
   "id": "666edd69-562a-4b27-869c-6e521d3d2f3f",
   "metadata": {},
   "outputs": [
    {
     "data": {
      "text/plain": [
       "array([[ 0,  1,  2,  3,  4,  5,  6,  7,  8,  9],\n",
       "       [10, 11, 12, 13, 14, 15, 16, 17, 18, 19],\n",
       "       [20, 21, 22, 23, 24, 25, 26, 27, 28, 29],\n",
       "       [30, 31, 32, 33, 34, 35, 36, 37, 38, 39],\n",
       "       [40, 41, 42, 43, 44, 45, 46, 47, 48, 49],\n",
       "       [50, 51, 52, 53, 54, 55, 56, 57, 58, 59],\n",
       "       [60, 61, 62, 63, 64, 65, 66, 67, 68, 69],\n",
       "       [70, 71, 72, 73, 74, 75, 76, 77, 78, 79],\n",
       "       [80, 81, 82, 83, 84, 85, 86, 87, 88, 89],\n",
       "       [90, 91, 92, 93, 94, 95, 96, 97, 98, 99]])"
      ]
     },
     "execution_count": 159,
     "metadata": {},
     "output_type": "execute_result"
    }
   ],
   "source": [
    "o"
   ]
  },
  {
   "cell_type": "code",
   "execution_count": 160,
   "id": "a49efb4f-d2bf-4a5c-bc39-d49364e4aac1",
   "metadata": {},
   "outputs": [],
   "source": [
    "p = np.arange(10).reshape(10, 1)"
   ]
  },
  {
   "cell_type": "code",
   "execution_count": 161,
   "id": "8833a0de-4705-4242-a4dd-e876bdedd2f3",
   "metadata": {},
   "outputs": [
    {
     "data": {
      "text/plain": [
       "array([[0],\n",
       "       [1],\n",
       "       [2],\n",
       "       [3],\n",
       "       [4],\n",
       "       [5],\n",
       "       [6],\n",
       "       [7],\n",
       "       [8],\n",
       "       [9]])"
      ]
     },
     "execution_count": 161,
     "metadata": {},
     "output_type": "execute_result"
    }
   ],
   "source": [
    "p"
   ]
  },
  {
   "cell_type": "code",
   "execution_count": 162,
   "id": "5c9c32be-1ecf-483a-a4df-a243e158ac2f",
   "metadata": {},
   "outputs": [
    {
     "data": {
      "text/plain": [
       "array([[ 0,  1,  2,  3,  4,  5,  6,  7,  8,  9,  0],\n",
       "       [10, 11, 12, 13, 14, 15, 16, 17, 18, 19,  1],\n",
       "       [20, 21, 22, 23, 24, 25, 26, 27, 28, 29,  2],\n",
       "       [30, 31, 32, 33, 34, 35, 36, 37, 38, 39,  3],\n",
       "       [40, 41, 42, 43, 44, 45, 46, 47, 48, 49,  4],\n",
       "       [50, 51, 52, 53, 54, 55, 56, 57, 58, 59,  5],\n",
       "       [60, 61, 62, 63, 64, 65, 66, 67, 68, 69,  6],\n",
       "       [70, 71, 72, 73, 74, 75, 76, 77, 78, 79,  7],\n",
       "       [80, 81, 82, 83, 84, 85, 86, 87, 88, 89,  8],\n",
       "       [90, 91, 92, 93, 94, 95, 96, 97, 98, 99,  9]])"
      ]
     },
     "execution_count": 162,
     "metadata": {},
     "output_type": "execute_result"
    }
   ],
   "source": [
    "np.hstack((o, p))  # WICHTIG: Hier innerhalb der Funktion die Arrays zum stapeln nochmal in eine Tupel packen"
   ]
  },
  {
   "cell_type": "code",
   "execution_count": 166,
   "id": "185b2fad-e6aa-45c5-af09-53a0de748fd9",
   "metadata": {},
   "outputs": [
    {
     "data": {
      "text/plain": [
       "array([[ 0. ,  1. ,  2. ,  3. ,  4. ,  5. ,  6. ,  7. ,  8. ,  9. ,  4.5],\n",
       "       [10. , 11. , 12. , 13. , 14. , 15. , 16. , 17. , 18. , 19. , 14.5],\n",
       "       [20. , 21. , 22. , 23. , 24. , 25. , 26. , 27. , 28. , 29. , 24.5],\n",
       "       [30. , 31. , 32. , 33. , 34. , 35. , 36. , 37. , 38. , 39. , 34.5],\n",
       "       [40. , 41. , 42. , 43. , 44. , 45. , 46. , 47. , 48. , 49. , 44.5],\n",
       "       [50. , 51. , 52. , 53. , 54. , 55. , 56. , 57. , 58. , 59. , 54.5],\n",
       "       [60. , 61. , 62. , 63. , 64. , 65. , 66. , 67. , 68. , 69. , 64.5],\n",
       "       [70. , 71. , 72. , 73. , 74. , 75. , 76. , 77. , 78. , 79. , 74.5],\n",
       "       [80. , 81. , 82. , 83. , 84. , 85. , 86. , 87. , 88. , 89. , 84.5],\n",
       "       [90. , 91. , 92. , 93. , 94. , 95. , 96. , 97. , 98. , 99. , 94.5]])"
      ]
     },
     "execution_count": 166,
     "metadata": {},
     "output_type": "execute_result"
    }
   ],
   "source": [
    "np.hstack((o, o.mean(axis=1).reshape(10, 1)))"
   ]
  }
 ],
 "metadata": {
  "kernelspec": {
   "display_name": "Python 3 (ipykernel)",
   "language": "python",
   "name": "python3"
  },
  "language_info": {
   "codemirror_mode": {
    "name": "ipython",
    "version": 3
   },
   "file_extension": ".py",
   "mimetype": "text/x-python",
   "name": "python",
   "nbconvert_exporter": "python",
   "pygments_lexer": "ipython3",
   "version": "3.12.3"
  }
 },
 "nbformat": 4,
 "nbformat_minor": 5
}
